{
 "cells": [
  {
   "attachments": {},
   "cell_type": "markdown",
   "metadata": {},
   "source": [
    "## Quantinuum tutorial"
   ]
  },
  {
   "attachments": {},
   "cell_type": "markdown",
   "metadata": {},
   "source": [
    "This notebook will show you how to use pytket to run circuits on the Quantinuum backends. You will need to install `pytket-quantinuum`.\n",
    "\n",
    "This tutorial assumes you are familiar with creating circuits in `pytket`. See the [pytket notebook](pytket_tutorial.ipynb) for an introduction.\n",
    "\n",
    "The examples here will go through:\n",
    "- [Basic usage](#Basic-emulator-usage)\n",
    "- [Using myqos with Quantinuum](#Using-Myqos)\n",
    "- [Cost estimation](#Cost-estimation)\n",
    "\n",
    "More thorough documentation can be found:\n",
    "- On the [Quantinuum user portal](https://um.qapi.quantinuum.com/user) ('Examples' -> 'docs')\n",
    "- On the [pytket-quantinuum documentation](https://cqcl.github.io/pytket-quantinuum/api/)\n",
    "- On the [Quantinuum Machine Info' Confluence page](https://cqc.atlassian.net/wiki/spaces/HQS/pages/920518657/Quantinuum+Machine+Info)\n",
    "- On the [Quantinuum via Myqos section](https://myqos.com/docs/example_notebooks/quantinuum_examples.html) of the Myqos documentation"
   ]
  },
  {
   "attachments": {},
   "cell_type": "markdown",
   "metadata": {},
   "source": [
    "### Import the necessary packages"
   ]
  },
  {
   "cell_type": "code",
   "execution_count": 1,
   "metadata": {},
   "outputs": [],
   "source": [
    "from pytket import Circuit\n",
    "from pytket.circuit.display import render_circuit_jupyter as rcj"
   ]
  },
  {
   "attachments": {},
   "cell_type": "markdown",
   "metadata": {},
   "source": [
    "## Create a circuit"
   ]
  },
  {
   "cell_type": "code",
   "execution_count": 2,
   "metadata": {},
   "outputs": [
    {
     "data": {
      "text/html": [
       "\n",
       "\n",
       "\n",
       "\n",
       "\n",
       "\n",
       "<div style=\"resize: vertical; overflow: auto; height: 400px; display: block\">\n",
       "    <iframe srcdoc=\"\n",
       "&lt;!DOCTYPE html&gt;\n",
       "&lt;html lang=&#34;en&#34;&gt;\n",
       "&lt;head&gt;\n",
       "    &lt;meta charset=&#34;UTF-8&#34;&gt;\n",
       "    &lt;!-- Download Vue 3--&gt;\n",
       "&lt;script type=&#34;application/javascript&#34; src=&#34;https://cdn.jsdelivr.net/npm/vue@3&#34;&gt;&lt;/script&gt;\n",
       "&lt;!-- Download Circuit Renderer with styles --&gt;\n",
       "&lt;script type=&#34;application/javascript&#34; src=&#34;https://unpkg.com/pytket-circuit-renderer@0.6/dist/pytket-circuit-renderer.umd.js&#34;&gt;&lt;/script&gt;\n",
       "&lt;link rel=&#34;stylesheet&#34; href=&#34;https://unpkg.com/pytket-circuit-renderer@0.6/dist/pytket-circuit-renderer.css&#34;&gt;\n",
       "&lt;/head&gt;\n",
       "&lt;body&gt;\n",
       "\n",
       "\n",
       "\n",
       "    &lt;div id=&#34;circuit-display-vue-container-396291ad-f8eb-4f6a-b25f-f737faa19828&#34; class=&#34;pytket-circuit-display-container&#34;&gt;\n",
       "        &lt;div style=&#34;display: none&#34;&gt;\n",
       "            &lt;div id=&#34;circuit-json-to-display&#34;&gt;{&#34;bits&#34;: [[&#34;c&#34;, [0]], [&#34;c&#34;, [1]]], &#34;commands&#34;: [{&#34;args&#34;: [[&#34;q&#34;, [0]]], &#34;op&#34;: {&#34;type&#34;: &#34;H&#34;}}, {&#34;args&#34;: [[&#34;q&#34;, [0]], [&#34;q&#34;, [1]]], &#34;op&#34;: {&#34;type&#34;: &#34;CX&#34;}}, {&#34;args&#34;: [[&#34;q&#34;, [0]], [&#34;c&#34;, [0]]], &#34;op&#34;: {&#34;type&#34;: &#34;Measure&#34;}}, {&#34;args&#34;: [[&#34;q&#34;, [1]], [&#34;c&#34;, [1]]], &#34;op&#34;: {&#34;type&#34;: &#34;Measure&#34;}}], &#34;created_qubits&#34;: [], &#34;discarded_qubits&#34;: [], &#34;implicit_permutation&#34;: [[[&#34;q&#34;, [0]], [&#34;q&#34;, [0]]], [[&#34;q&#34;, [1]], [&#34;q&#34;, [1]]]], &#34;phase&#34;: &#34;0.0&#34;, &#34;qubits&#34;: [[&#34;q&#34;, [0]], [&#34;q&#34;, [1]]]}&lt;/div&gt;\n",
       "        &lt;/div&gt;\n",
       "        &lt;circuit-display-container\n",
       "                :circuit-element-str=&#34;&#39;#circuit-json-to-display&#39;&#34;\n",
       "                :init-render-options=&#34;initRenderOptions&#34;\n",
       "        &gt;&lt;/circuit-display-container&gt;\n",
       "    &lt;/div&gt;\n",
       "    &lt;script type=&#34;application/javascript&#34;&gt;\n",
       "      const circuitRendererUid = &#34;396291ad-f8eb-4f6a-b25f-f737faa19828&#34;;\n",
       "      const displayOptions = JSON.parse(&#39;{}&#39;);\n",
       "\n",
       "      // Script to initialise the circuit renderer app\n",
       "\n",
       "const { createApp } = Vue;\n",
       "const circuitDisplayContainer = window[&#34;pytket-circuit-renderer&#34;].default;\n",
       "// Init variables to be shared between circuit display instances\n",
       "if (typeof window.pytketCircuitDisplays === &#34;undefined&#34;) {\n",
       "    window.pytketCircuitDisplays = {};\n",
       "}\n",
       "// Create the root Vue component\n",
       "const app = createApp({\n",
       "    delimiters: [&#39;[[#&#39;, &#39;#]]&#39;],\n",
       "    components: { circuitDisplayContainer },\n",
       "    data () {\n",
       "      return {\n",
       "        initRenderOptions: displayOptions,\n",
       "      }\n",
       "    }\n",
       "})\n",
       "app.config.unwrapInjectedRef = true;\n",
       "app.mount(&#34;#circuit-display-vue-container-&#34;+circuitRendererUid);\n",
       "window.pytketCircuitDisplays[circuitRendererUid] = app;\n",
       "    &lt;/script&gt;\n",
       "\n",
       "\n",
       "\n",
       "&lt;/body&gt;\n",
       "&lt;/html&gt;\n",
       "\"\n",
       "            width=\"100%\" height=\"100%\"\n",
       "            style=\"border: none; outline: none; overflow: auto\"></iframe>\n",
       "</div>\n",
       "\n"
      ],
      "text/plain": [
       "<IPython.core.display.HTML object>"
      ]
     },
     "metadata": {},
     "output_type": "display_data"
    }
   ],
   "source": [
    "c = Circuit(2).H(0).CX(0, 1).measure_all()\n",
    "\n",
    "rcj(c)"
   ]
  },
  {
   "attachments": {},
   "cell_type": "markdown",
   "metadata": {},
   "source": [
    "## Basic usage"
   ]
  },
  {
   "cell_type": "code",
   "execution_count": 3,
   "metadata": {},
   "outputs": [
    {
     "name": "stdout",
     "output_type": "stream",
     "text": [
      "To sign in:\n",
      "1) Open a web browser (using any device)\n",
      "2) Visit https://microsoft.com/devicelogin\n",
      "3) Enter code 'F3YYZYSDL'\n",
      "4) Enter your Microsoft credentials\n",
      "Authentication successful\n",
      "Counter({(0, 0): 53, (1, 1): 47})\n"
     ]
    }
   ],
   "source": [
    "from pytket.extensions.quantinuum import QuantinuumBackend\n",
    "\n",
    "backend = QuantinuumBackend('H1-1E', provider='microsoft')\n",
    "compiled_circuit = backend.get_compiled_circuit(c)\n",
    "handle = backend.process_circuit(compiled_circuit, n_shots=100)\n",
    "result = backend.get_result(handle)\n",
    "counts = result.get_counts()\n",
    "print(counts)"
   ]
  },
  {
   "attachments": {},
   "cell_type": "markdown",
   "metadata": {},
   "source": [
    "Using a real device works in exactly the same way, just replacing `H1-1E` with `H1-1`. However, ***you must request time on the real devices first***. See the [confluence page](https://cqc.atlassian.net/wiki/spaces/HQS/pages/920518657/Quantinuum+Machine+Info) for information on how to do this."
   ]
  },
  {
   "attachments": {},
   "cell_type": "markdown",
   "metadata": {},
   "source": [
    "## Batching circuits"
   ]
  },
  {
   "attachments": {},
   "cell_type": "markdown",
   "metadata": {},
   "source": [
    "You can batch circuits together so that when it's your turn in the queue, they will run one after the other.\n",
    "\n",
    "You can do this manually, as shown below, or by uing Myqos' automatic batching feature. See the [Myqos section](#Using-Myqos) below for more details."
   ]
  },
  {
   "cell_type": "code",
   "execution_count": 8,
   "metadata": {},
   "outputs": [
    {
     "name": "stdout",
     "output_type": "stream",
     "text": [
      "Counter({(0, 0): 51, (1, 1): 48, (1, 0): 1})\n"
     ]
    }
   ],
   "source": [
    "from pytket.extensions.quantinuum import QuantinuumBackend\n",
    "\n",
    "backend = QuantinuumBackend('H1-1E', provider='microsoft')\n",
    "\n",
    "circuits = [c.copy(), c.copy(), c.copy()]\n",
    "compiled_circuits = backend.get_compiled_circuits(circuits)\n",
    "\n",
    "handle1 = backend.start_batch(max_batch_cost=100, circuit=compiled_circuits[0], n_shots=100)\n",
    "handle2 = backend.add_to_batch(handle1, max_batch_cost=100, circuit=compiled_circuits[1], n_shots=100)\n",
    "handle3 = backend.add_to_batch(handle1, max_batch_cost=100, circuit=compiled_circuits[2], n_shots=100, batch_end=True)\n",
    "\n",
    "result1 = backend.get_result(handle1)\n",
    "print(result1.get_counts())"
   ]
  },
  {
   "attachments": {},
   "cell_type": "markdown",
   "metadata": {},
   "source": [
    "Currently there isn't a neat way to do this batching process automatically if you don't want to use Myqos. You could do a workaround such as:"
   ]
  },
  {
   "cell_type": "code",
   "execution_count": 11,
   "metadata": {},
   "outputs": [
    {
     "name": "stdout",
     "output_type": "stream",
     "text": [
      "Counter({(1, 1): 64, (0, 0): 36})\n"
     ]
    }
   ],
   "source": [
    "num_circuits = 5\n",
    "circuits = [c.copy() for _ in range(num_circuits)]\n",
    "compiled_circuits = backend.get_compiled_circuits(circuits)\n",
    "\n",
    "# Start batch\n",
    "h1 = backend.start_batch(max_batch_cost=100, circuit=compiled_circuits[0], n_shots=100)\n",
    "handles = [h1]\n",
    "\n",
    "# Add remaining circuits to batch\n",
    "for i in range(1, num_circuits):\n",
    "    batch_end = True if i == num_circuits - 1 else False\n",
    "    h = backend.add_to_batch(h1, max_batch_cost=100, circuit=compiled_circuits[i], n_shots=100, batch_end=batch_end)\n",
    "    handles.append(h)\n",
    "\n",
    "results = [backend.get_result(h) for h in handles]\n",
    "counts = [r.get_counts() for r in results]\n",
    "print(counts[0])"
   ]
  },
  {
   "attachments": {},
   "cell_type": "markdown",
   "metadata": {},
   "source": [
    "## Using Myqos"
   ]
  },
  {
   "attachments": {},
   "cell_type": "markdown",
   "metadata": {},
   "source": [
    "Myqos lets you store circuit results in the cloud. See the [Myqos tutorial](myqos_tutorial.ipynb) for more information, as well as the [Myqos documentation](https://myqos.com/docs/).\n",
    "\n",
    "Myqos automatically supports automatic batching for Quantinuum backends. You just need to pass `attempt_batch=True` to `QuantinuumConfig`. This means that once it's your turn in the queue, the whole batch will run together. See more details on the [Quantinuum via Myqos page](https://myqos.com/docs/example_notebooks/quantinuum_examples.html#Batching) and the [pytket-quantinuum docs](https://cqcl.github.io/pytket-quantinuum/api/index.html)."
   ]
  },
  {
   "cell_type": "code",
   "execution_count": 4,
   "metadata": {},
   "outputs": [
    {
     "name": "stdout",
     "output_type": "stream",
     "text": [
      "\n",
      "Started using experiment with name: h_series_test\n"
     ]
    }
   ],
   "source": [
    "from pytket.extensions.myqos import Myqos, MyqosBackend, QuantinuumConfig\n",
    "\n",
    "myqos = Myqos()\n",
    "myqos.login()\n",
    "quantinuum_config = QuantinuumConfig(device_name='H1-1E', user_group='DEFAULT', attempt_batching=True)\n",
    "\n",
    "try:\n",
    "    experiment = myqos.new_experiment('h_series_test')\n",
    "except:\n",
    "    experiment = myqos.get_experiment_by_name('h_series_test')\n",
    "\n",
    "backend = MyqosBackend(quantinuum_config, experiment)"
   ]
  },
  {
   "cell_type": "code",
   "execution_count": 17,
   "metadata": {},
   "outputs": [],
   "source": [
    "circuits = [c.copy(), c.copy(), c.copy()]\n",
    "\n",
    "compiled_circuits = backend.get_compiled_circuits(circuits)\n",
    "handles = backend.process_circuits(compiled_circuits, n_shots=100)"
   ]
  },
  {
   "cell_type": "code",
   "execution_count": 18,
   "metadata": {},
   "outputs": [
    {
     "name": "stdout",
     "output_type": "stream",
     "text": [
      "[Counter({(1, 1): 60, (0, 0): 40}), Counter({(1, 1): 54, (0, 0): 45, (1, 0): 1}), Counter({(0, 0): 50, (1, 1): 49, (1, 0): 1})]\n"
     ]
    }
   ],
   "source": [
    "results = [backend.get_result(h, timeout=None) for h in handles]\n",
    "counts = [r.get_counts() for r in results]\n",
    "print(counts)"
   ]
  },
  {
   "attachments": {},
   "cell_type": "markdown",
   "metadata": {},
   "source": [
    "## Cost estimation"
   ]
  },
  {
   "attachments": {},
   "cell_type": "markdown",
   "metadata": {},
   "source": [
    "The Quantinuum backends have a `.cost` function which returns the HQCs of a circuit. You may need to explicitly provide the `syntax_checker` you need to use."
   ]
  },
  {
   "cell_type": "code",
   "execution_count": 14,
   "metadata": {},
   "outputs": [],
   "source": [
    "from pytket.extensions.quantinuum import QuantinuumBackend\n",
    "emulator_backend = QuantinuumBackend('H1-1E')"
   ]
  },
  {
   "cell_type": "code",
   "execution_count": 12,
   "metadata": {},
   "outputs": [
    {
     "data": {
      "text/plain": [
       "5.66"
      ]
     },
     "execution_count": 12,
     "metadata": {},
     "output_type": "execute_result"
    }
   ],
   "source": [
    "emulator_backend.cost(\n",
    "    emulator_backend.get_compiled_circuit(c), n_shots=100, syntax_checker=\"H1-1SC\"\n",
    ")"
   ]
  },
  {
   "attachments": {},
   "cell_type": "markdown",
   "metadata": {},
   "source": [
    "A more complicated circuit will be more expensive, as will the same circuit with more shots."
   ]
  },
  {
   "cell_type": "code",
   "execution_count": 13,
   "metadata": {},
   "outputs": [
    {
     "data": {
      "text/plain": [
       "38.0"
      ]
     },
     "execution_count": 13,
     "metadata": {},
     "output_type": "execute_result"
    }
   ],
   "source": [
    "emulator_backend.cost(\n",
    "    emulator_backend.get_compiled_circuit(c), n_shots=5000, syntax_checker=\"H1-1SC\"\n",
    ")"
   ]
  }
 ],
 "metadata": {
  "kernelspec": {
   "display_name": "tutorials3.10",
   "language": "python",
   "name": "python3"
  },
  "language_info": {
   "codemirror_mode": {
    "name": "ipython",
    "version": 3
   },
   "file_extension": ".py",
   "mimetype": "text/x-python",
   "name": "python",
   "nbconvert_exporter": "python",
   "pygments_lexer": "ipython3",
   "version": "3.9.17"
  },
  "orig_nbformat": 4
 },
 "nbformat": 4,
 "nbformat_minor": 2
}
