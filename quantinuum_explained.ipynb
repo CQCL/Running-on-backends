{
 "cells": [
  {
   "attachments": {},
   "cell_type": "markdown",
   "metadata": {},
   "source": [
    "## Summary\n",
    "Quantinuum has ion trap-based quantum computers. They also have a cloud-based emulator intended to be a very accurate representation of the behaviour of the real quantum device.\n",
    "\n",
    "More information can be found on:\n",
    "- The [Quantinuum user portal](https://um.qapi.quantinuum.com/user) ('Examples' -> 'docs')\n",
    "- The pytket-quantinuum [documentation](https://cqcl.github.io/pytket-quantinuum/api/)\n",
    "- The 'Quantinuum Machine Info' [Confluence page](https://cqc.atlassian.net/wiki/spaces/HQS/pages/920518657/Quantinuum+Machine+Info). \n",
    "  \n",
    "To get set up, follow the instructions on the confluence page above. There is also an #h-series-users Slack channel for support.\n",
    "\n",
    "***IMPORTANT***\n",
    "To request time on the real devices, you need to fill in the form on the Confluence page with how much time you need, your deadline, etc. You should not perform experiments on the real devices without doing this first."
   ]
  },
  {
   "attachments": {},
   "cell_type": "markdown",
   "metadata": {},
   "source": [
    "### Technology\n",
    "Quantinuum uses ion trap-based quantum computing. More information about hardware specifics is available on the data sheets found in the 'Examples' section of the [user portal](https://um.qapi.quantinuum.com/user). \n",
    "\n",
    "Ion traps are slower than superconducting qubits but are much less noisy -- empirically, 100s of shots on Quantinuum will give results comparable to 1000s of shots on IBM. \n",
    "\n",
    "The qubits have all-to-all connectivity (the ions are physically picked up and moved during computation!) which means that circuits tend to not grow too much with compilation. (Conversely, on IBM machines, the qubits are in a grid architecture and SWAPs have to happen to make non-adjacent qubits interact.) They also support mid-circuit measurement with conditional branching and qubit reuse."
   ]
  },
  {
   "attachments": {},
   "cell_type": "markdown",
   "metadata": {},
   "source": [
    "### Devices and simulators\n",
    "\n",
    "Quantinuum has different architectures of quantum computer:\n",
    "- H1 uses a linear architecture (qubits arranged in a line). There are two instances of it, called `H1-1` and `H1-2`. \n",
    "- H2 uses a so-called 'racetrack' architecture (qubits arranged in a loop). There is currently one instance of this, called `H2-1`.\n",
    "- Each device has an emulator, identified as `H1-1E`, `H1-2E` and `H2-1E`.\n",
    "- Each device also has a syntax checker, which can be used for checking compilation and cost estimation. These are identified as `H1-1SC`, `H1-2SC` and `H2-1SC`.\n",
    "\n",
    "`H1-1` has 20 qubits, and `H1-2` has 12. `H2-1` has 32 qubits. Their respective emulators reflect this. The most up-to-date fidelities for the various types of gates and operations are available on the [user portal](https://um.qapi.quantinuum.com/user) ('Product Data Sheet').\n",
    "\n",
    "ATOW, the emulators are in the cloud and you have to queue for them. Anecdotally, this tends not to be for more than a few hours, but this varies depending on demand and the size of the circuit you want to run.\n",
    "\n",
    "Each circuit is worth a number of HQC 'credits': the formula is calculated using:\n",
    "\n",
    "$HQC = 5 + \\frac{N_{1q} + 10N_{2q} + 5N_m}{5000}C$\n",
    "\n",
    "where $N_{1q}$ is the number of 1-qubit gates, $N_{2q}$ is the number of 2-qubit gates, $N_m$ is the number of measurements, and $C$ is the number of shots. The queue has a 'fair use' system which takes into account your recent usage."
   ]
  },
  {
   "attachments": {},
   "cell_type": "markdown",
   "metadata": {},
   "source": [
    "### Getting started\n",
    "You should be able to access the user portal with your Quantinuum email and password (or your Quantinuum Microsoft details).\n",
    "\n",
    "The user API website shows the jobs you have and their current status (completed, queueing, etc)."
   ]
  },
  {
   "attachments": {},
   "cell_type": "markdown",
   "metadata": {},
   "source": [
    "![quantinuum_user_api](imgs/quantinuum_api.png)\n",
    "*The user API website showing current jobs*"
   ]
  },
  {
   "cell_type": "markdown",
   "metadata": {},
   "source": []
  }
 ],
 "metadata": {
  "language_info": {
   "name": "python"
  },
  "orig_nbformat": 4
 },
 "nbformat": 4,
 "nbformat_minor": 2
}
