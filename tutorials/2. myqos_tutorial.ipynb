{
 "cells": [
  {
   "attachments": {},
   "cell_type": "markdown",
   "metadata": {},
   "source": [
    "# Myqos tutorial"
   ]
  },
  {
   "attachments": {},
   "cell_type": "markdown",
   "metadata": {},
   "source": [
    "Myqos is a cloud-based service for runnnig circuits on backends. The main selling-point is that results are saved and can be shared with other users. \n",
    "\n",
    "You can store your logins to IBMQ and Quantinuum in Myqos so that you only ever need to use your Myqos login.\n",
    "\n",
    "Myqos has both a website and a python package. Many features (e.g. adding teams, managing experiments) can be done in both places. Here we will just focus on the package.\n",
    "\n",
    "For much more information, see the [myqos documentation](https://myqos.com/). Also see the specific backend tutorials for more information on how to use Myqos with a specific backend.\n",
    "\n",
    "n.b. Myqos is currently in development, so access instructions, along with many things in this tutorial, may well change. Everything here was correct at time of writing (June 2023). See the docs for the most up-to-date information, including installation instructions."
   ]
  },
  {
   "attachments": {},
   "cell_type": "markdown",
   "metadata": {},
   "source": [
    "## Import packages"
   ]
  },
  {
   "cell_type": "code",
   "execution_count": 1,
   "metadata": {},
   "outputs": [],
   "source": [
    "from pytket.extensions.myqos import Myqos, MyqosBackend, AerConfig\n",
    "from pytket import Circuit\n",
    "from pytket.circuit.display import render_circuit_jupyter as rcj\n",
    "from utils.utils import plot_bars"
   ]
  },
  {
   "attachments": {},
   "cell_type": "markdown",
   "metadata": {},
   "source": [
    "Myqos works in a similar way to pytket. Instead of having a `Backend` for every type of device, we have a `MyqosBackend` which takes:\n",
    "- A `Config`, specifying the device and any other options\n",
    "- A `MyqosExperiment` which holds the results for a group of circuits, and which can be shared with other users\n",
    "- *(optional)* "
   ]
  },
  {
   "cell_type": "code",
   "execution_count": 2,
   "metadata": {},
   "outputs": [],
   "source": [
    "# Instantiate and log in to Myqos\n",
    "myqos = Myqos()\n",
    "myqos.login()"
   ]
  },
  {
   "attachments": {},
   "cell_type": "markdown",
   "metadata": {},
   "source": [
    "Here we'll run a simple example using the `Aer` simulator. See the other notebooks for more detail on using Myqos with other backends."
   ]
  },
  {
   "cell_type": "code",
   "execution_count": 4,
   "metadata": {},
   "outputs": [
    {
     "name": "stdout",
     "output_type": "stream",
     "text": [
      "\n",
      "New experiment created: myqos_tutorial_experiment\n"
     ]
    }
   ],
   "source": [
    "# Define the Myqos config\n",
    "config = AerConfig()\n",
    "\n",
    "experiment = myqos.new_experiment('myqos_tutorial_experiment')\n",
    "\n",
    "# Or, if you already created it:\n",
    "# experiment = myqos.get_experiment_by_name('myqos_tutorial')"
   ]
  },
  {
   "cell_type": "code",
   "execution_count": 5,
   "metadata": {},
   "outputs": [
    {
     "name": "stdout",
     "output_type": "stream",
     "text": [
      "\n",
      "Started using experiment with name: myqos_tutorial_experiment\n"
     ]
    }
   ],
   "source": [
    "# Define backend\n",
    "backend = MyqosBackend(config, experiment)"
   ]
  },
  {
   "attachments": {},
   "cell_type": "markdown",
   "metadata": {},
   "source": [
    "The rest of the process is just like using a tket backend as in the previous tutorial. We first compile the circuit, then run it."
   ]
  },
  {
   "cell_type": "code",
   "execution_count": 6,
   "metadata": {},
   "outputs": [
    {
     "data": {
      "text/html": [
       "\n",
       "\n",
       "\n",
       "\n",
       "\n",
       "\n",
       "<div style=\"resize: vertical; overflow: auto; height: 400px; display: block\">\n",
       "    <iframe srcdoc=\"\n",
       "&lt;!DOCTYPE html&gt;\n",
       "&lt;html lang=&#34;en&#34;&gt;\n",
       "&lt;head&gt;\n",
       "    &lt;meta charset=&#34;UTF-8&#34;&gt;\n",
       "    &lt;!-- Download Vue 3--&gt;\n",
       "&lt;script type=&#34;application/javascript&#34; src=&#34;https://cdn.jsdelivr.net/npm/vue@3&#34;&gt;&lt;/script&gt;\n",
       "&lt;!-- Download Circuit Renderer with styles --&gt;\n",
       "&lt;script type=&#34;application/javascript&#34; src=&#34;https://unpkg.com/pytket-circuit-renderer@0.6/dist/pytket-circuit-renderer.umd.js&#34;&gt;&lt;/script&gt;\n",
       "&lt;link rel=&#34;stylesheet&#34; href=&#34;https://unpkg.com/pytket-circuit-renderer@0.6/dist/pytket-circuit-renderer.css&#34;&gt;\n",
       "&lt;/head&gt;\n",
       "&lt;body&gt;\n",
       "\n",
       "\n",
       "\n",
       "    &lt;div id=&#34;circuit-display-vue-container-556d98d8-c783-48d4-be8b-8e828de99929&#34; class=&#34;pytket-circuit-display-container&#34;&gt;\n",
       "        &lt;div style=&#34;display: none&#34;&gt;\n",
       "            &lt;div id=&#34;circuit-json-to-display&#34;&gt;{&#34;bits&#34;: [[&#34;c&#34;, [0]], [&#34;c&#34;, [1]]], &#34;commands&#34;: [{&#34;args&#34;: [[&#34;q&#34;, [0]]], &#34;op&#34;: {&#34;type&#34;: &#34;H&#34;}}, {&#34;args&#34;: [[&#34;q&#34;, [0]], [&#34;q&#34;, [1]]], &#34;op&#34;: {&#34;type&#34;: &#34;CX&#34;}}, {&#34;args&#34;: [[&#34;q&#34;, [0]], [&#34;c&#34;, [0]]], &#34;op&#34;: {&#34;type&#34;: &#34;Measure&#34;}}, {&#34;args&#34;: [[&#34;q&#34;, [1]], [&#34;c&#34;, [1]]], &#34;op&#34;: {&#34;type&#34;: &#34;Measure&#34;}}], &#34;created_qubits&#34;: [], &#34;discarded_qubits&#34;: [], &#34;implicit_permutation&#34;: [[[&#34;q&#34;, [0]], [&#34;q&#34;, [0]]], [[&#34;q&#34;, [1]], [&#34;q&#34;, [1]]]], &#34;phase&#34;: &#34;0.0&#34;, &#34;qubits&#34;: [[&#34;q&#34;, [0]], [&#34;q&#34;, [1]]]}&lt;/div&gt;\n",
       "        &lt;/div&gt;\n",
       "        &lt;circuit-display-container\n",
       "                :circuit-element-str=&#34;&#39;#circuit-json-to-display&#39;&#34;\n",
       "                :init-render-options=&#34;initRenderOptions&#34;\n",
       "        &gt;&lt;/circuit-display-container&gt;\n",
       "    &lt;/div&gt;\n",
       "    &lt;script type=&#34;application/javascript&#34;&gt;\n",
       "      const circuitRendererUid = &#34;556d98d8-c783-48d4-be8b-8e828de99929&#34;;\n",
       "      const displayOptions = JSON.parse(&#39;{}&#39;);\n",
       "\n",
       "      // Script to initialise the circuit renderer app\n",
       "\n",
       "const { createApp } = Vue;\n",
       "const circuitDisplayContainer = window[&#34;pytket-circuit-renderer&#34;].default;\n",
       "// Init variables to be shared between circuit display instances\n",
       "if (typeof window.pytketCircuitDisplays === &#34;undefined&#34;) {\n",
       "    window.pytketCircuitDisplays = {};\n",
       "}\n",
       "// Create the root Vue component\n",
       "const app = createApp({\n",
       "    delimiters: [&#39;[[#&#39;, &#39;#]]&#39;],\n",
       "    components: { circuitDisplayContainer },\n",
       "    data () {\n",
       "      return {\n",
       "        initRenderOptions: displayOptions,\n",
       "      }\n",
       "    }\n",
       "})\n",
       "app.config.unwrapInjectedRef = true;\n",
       "app.mount(&#34;#circuit-display-vue-container-&#34;+circuitRendererUid);\n",
       "window.pytketCircuitDisplays[circuitRendererUid] = app;\n",
       "    &lt;/script&gt;\n",
       "\n",
       "\n",
       "\n",
       "&lt;/body&gt;\n",
       "&lt;/html&gt;\n",
       "\"\n",
       "            width=\"100%\" height=\"100%\"\n",
       "            style=\"border: none; outline: none; overflow: auto\"></iframe>\n",
       "</div>\n",
       "\n"
      ],
      "text/plain": [
       "<IPython.core.display.HTML object>"
      ]
     },
     "metadata": {},
     "output_type": "display_data"
    }
   ],
   "source": [
    "# Define a circuit\n",
    "c = Circuit(2)\n",
    "c.H(0).CX(0, 1).measure_all()\n",
    "rcj(c)"
   ]
  },
  {
   "cell_type": "code",
   "execution_count": 7,
   "metadata": {},
   "outputs": [],
   "source": [
    "# Compile circuit to backend\n",
    "compiled_c = backend.get_compiled_circuit(c)"
   ]
  },
  {
   "cell_type": "code",
   "execution_count": 15,
   "metadata": {},
   "outputs": [],
   "source": [
    "# Submit circuit to backend\n",
    "handle = backend.process_circuit(compiled_c, n_shots=1000)"
   ]
  },
  {
   "cell_type": "code",
   "execution_count": 9,
   "metadata": {},
   "outputs": [
    {
     "data": {
      "text/plain": [
       "(<Figure size 400x300 with 1 Axes>,\n",
       " <Axes: title={'center': 'Example Myqos experiment'}>)"
      ]
     },
     "execution_count": 9,
     "metadata": {},
     "output_type": "execute_result"
    },
    {
     "data": {
      "image/png": "[encoded data removed]",
      "text/plain": [
       "<Figure size 400x300 with 1 Axes>"
      ]
     },
     "metadata": {},
     "output_type": "display_data"
    }
   ],
   "source": [
    "# Get results and plot\n",
    "result = backend.get_result(handle)\n",
    "\n",
    "counts = result.get_counts()\n",
    "\n",
    "plot_bars(counts, \"Example Myqos experiment\")"
   ]
  },
  {
   "attachments": {},
   "cell_type": "markdown",
   "metadata": {},
   "source": [
    "I can now access these results from the Myqos website:\n",
    "\n",
    "![myqos results](../imgs/myqos_experiment.png)"
   ]
  },
  {
   "attachments": {},
   "cell_type": "markdown",
   "metadata": {},
   "source": [
    "These results can be accessed with python at a later date by either called `experiment.get_all_results()`:"
   ]
  },
  {
   "cell_type": "code",
   "execution_count": 12,
   "metadata": {},
   "outputs": [
    {
     "name": "stdout",
     "output_type": "stream",
     "text": [
      "Counter({(1, 1): 521, (0, 0): 479})\n"
     ]
    }
   ],
   "source": [
    "all_results = experiment.get_all_results()\n",
    "all_counts = [r.get_counts() for r in all_results]\n",
    "\n",
    "print(all_counts[0])"
   ]
  },
  {
   "attachments": {},
   "cell_type": "markdown",
   "metadata": {},
   "source": [
    "Alternatively, you can save the handles (for example using `pickle`), and then load them from there using `backend.get_results(handles)`:\n"
   ]
  },
  {
   "cell_type": "code",
   "execution_count": 16,
   "metadata": {},
   "outputs": [
    {
     "name": "stdout",
     "output_type": "stream",
     "text": [
      "Counter({(1, 1): 521, (0, 0): 479})\n"
     ]
    }
   ],
   "source": [
    "### Uncomment this code to run it and save the handles\n",
    "\n",
    "# import pickle\n",
    "# with open('handle.pkl', 'wb') as f:\n",
    "#     pickle.dump(handle, f)\n",
    "\n",
    "# with open('handle.pkl', 'rb') as f:\n",
    "#     handle = pickle.load(f)\n",
    "\n",
    "result_from_handle = backend.get_result(handle)\n",
    "counts = result.get_counts()\n",
    "print(counts)"
   ]
  },
  {
   "cell_type": "markdown",
   "metadata": {},
   "source": [
    "## Adding a team to an experiment"
   ]
  },
  {
   "attachments": {},
   "cell_type": "markdown",
   "metadata": {},
   "source": [
    "You can add a team on the Myqos interface and use this to share results with other people.\n",
    "\n",
    "Create a team and add users on the [Myqos website](https://myqos.com/).\n",
    "\n",
    "Once you've done this you can access the team using the python package."
   ]
  },
  {
   "cell_type": "code",
   "execution_count": 17,
   "metadata": {},
   "outputs": [],
   "source": [
    "team = myqos.get_team_by_name('tutorials_team')\n",
    "print(team)"
   ]
  },
  {
   "attachments": {},
   "cell_type": "markdown",
   "metadata": {},
   "source": [
    "You can give a team access to an experiment by passing `team.id` and the access type:"
   ]
  },
  {
   "cell_type": "code",
   "execution_count": 20,
   "metadata": {},
   "outputs": [],
   "source": [
    "experiment.update_experiment_acl_for_team(team.id, {'Read', 'Write', 'Delete'})"
   ]
  },
  {
   "attachments": {},
   "cell_type": "markdown",
   "metadata": {},
   "source": [
    "On the website you can see that the team has access to the experiment:\n",
    "\n",
    "![myqos team](../imgs/myqos_team.png)"
   ]
  }
 ],
 "metadata": {
  "kernelspec": {
   "display_name": "clear_venv",
   "language": "python",
   "name": "python3"
  },
  "language_info": {
   "codemirror_mode": {
    "name": "ipython",
    "version": 3
   },
   "file_extension": ".py",
   "mimetype": "text/x-python",
   "name": "python",
   "nbconvert_exporter": "python",
   "pygments_lexer": "ipython3",
   "version": "3.9.17"
  },
  "orig_nbformat": 4
 },
 "nbformat": 4,
 "nbformat_minor": 2
}
