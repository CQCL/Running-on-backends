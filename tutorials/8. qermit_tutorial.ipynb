{
 "cells": [
  {
   "attachments": {},
   "cell_type": "markdown",
   "metadata": {},
   "source": [
    "# Qermit Tutorial"
   ]
  },
  {
   "attachments": {},
   "cell_type": "markdown",
   "metadata": {},
   "source": [
    "Qermit is a package for performing error mitigation on quantum circuits. This is *not* the same as fault tolerance. Fault tolerance involes correcting qubits on-the-go with other qubits -- typically hundreds of 'physical' qubits are required for one, error-corrected 'logical' qubit.\n",
    "\n",
    "Error mitigation involves techniques to minimise the noise you get when using near-term, noisy devices. \n",
    "\n",
    "For more information, see the [Qermit paper](https://arxiv.org/abs/2204.09725) and the [Qermit user manual](https://cqcl.github.io/Qermit/manual/index.html). The information here is more or less a streamlined subset of the information in the manual -- there's much more detail in there.\n",
    "\n",
    "To get started, run `pip install qermit`."
   ]
  },
  {
   "attachments": {},
   "cell_type": "markdown",
   "metadata": {},
   "source": [
    "This tutorial will get through:\n",
    "- [MitRes in Qermit](#MitRes-in-Qermit)\n",
    "- [SPAM mitigation](#SPAM-mitigation)"
   ]
  },
  {
   "attachments": {},
   "cell_type": "markdown",
   "metadata": {},
   "source": [
    "## Import packages"
   ]
  },
  {
   "cell_type": "code",
   "execution_count": 14,
   "metadata": {},
   "outputs": [],
   "source": [
    "from pytket import Circuit\n",
    "from pytket.extensions.qiskit import AerBackend\n",
    "from pytket.circuit.display import render_circuit_jupyter as rcj\n",
    "from qiskit_aer.noise import NoiseModel\n",
    "from qiskit_ibm_provider import IBMProvider\n",
    "\n",
    "from utils.utils import plot_bars, plot_multiple_bars, tuple_to_ket, gen_tuples"
   ]
  },
  {
   "cell_type": "code",
   "execution_count": 15,
   "metadata": {},
   "outputs": [],
   "source": [
    "provider = IBMProvider()"
   ]
  },
  {
   "attachments": {},
   "cell_type": "markdown",
   "metadata": {},
   "source": [
    "## Define noiseless and noisy backends"
   ]
  },
  {
   "cell_type": "code",
   "execution_count": 16,
   "metadata": {},
   "outputs": [],
   "source": [
    "# Aer backend with no noise\n",
    "aer_backend_no_noise = AerBackend()\n",
    "\n",
    "# Aer backend with noise model from real device\n",
    "device_backend = provider.get_backend('ibm_lagos')\n",
    "noise_model = NoiseModel.from_backend(device_backend)\n",
    "noisy_aer_backend = AerBackend(noise_model=noise_model)"
   ]
  },
  {
   "attachments": {},
   "cell_type": "markdown",
   "metadata": {},
   "source": [
    "## Define a circuit"
   ]
  },
  {
   "cell_type": "code",
   "execution_count": 17,
   "metadata": {},
   "outputs": [
    {
     "data": {
      "text/html": [
       "\n",
       "\n",
       "\n",
       "\n",
       "\n",
       "\n",
       "<div style=\"resize: vertical; overflow: auto; height: 400px; display: block\">\n",
       "    <iframe srcdoc=\"\n",
       "&lt;!DOCTYPE html&gt;\n",
       "&lt;html lang=&#34;en&#34;&gt;\n",
       "&lt;head&gt;\n",
       "    &lt;meta charset=&#34;UTF-8&#34;&gt;\n",
       "    &lt;!-- Download Vue 3--&gt;\n",
       "&lt;script type=&#34;application/javascript&#34; src=&#34;https://cdn.jsdelivr.net/npm/vue@3&#34;&gt;&lt;/script&gt;\n",
       "&lt;!-- Download Circuit Renderer with styles --&gt;\n",
       "&lt;script type=&#34;application/javascript&#34; src=&#34;https://unpkg.com/pytket-circuit-renderer@0.6/dist/pytket-circuit-renderer.umd.js&#34;&gt;&lt;/script&gt;\n",
       "&lt;link rel=&#34;stylesheet&#34; href=&#34;https://unpkg.com/pytket-circuit-renderer@0.6/dist/pytket-circuit-renderer.css&#34;&gt;\n",
       "&lt;/head&gt;\n",
       "&lt;body&gt;\n",
       "\n",
       "\n",
       "\n",
       "    &lt;div id=&#34;circuit-display-vue-container-431cde34-8151-4033-8128-b977c3baf6ac&#34; class=&#34;pytket-circuit-display-container&#34;&gt;\n",
       "        &lt;div style=&#34;display: none&#34;&gt;\n",
       "            &lt;div id=&#34;circuit-json-to-display&#34;&gt;{&#34;bits&#34;: [[&#34;c&#34;, [0]], [&#34;c&#34;, [1]], [&#34;c&#34;, [2]], [&#34;c&#34;, [3]], [&#34;c&#34;, [4]]], &#34;commands&#34;: [{&#34;args&#34;: [[&#34;q&#34;, [0]]], &#34;op&#34;: {&#34;type&#34;: &#34;H&#34;}}, {&#34;args&#34;: [[&#34;q&#34;, [0]], [&#34;q&#34;, [1]]], &#34;op&#34;: {&#34;type&#34;: &#34;CX&#34;}}, {&#34;args&#34;: [[&#34;q&#34;, [0]], [&#34;c&#34;, [0]]], &#34;op&#34;: {&#34;type&#34;: &#34;Measure&#34;}}, {&#34;args&#34;: [[&#34;q&#34;, [1]], [&#34;q&#34;, [2]]], &#34;op&#34;: {&#34;type&#34;: &#34;CX&#34;}}, {&#34;args&#34;: [[&#34;q&#34;, [1]], [&#34;c&#34;, [1]]], &#34;op&#34;: {&#34;type&#34;: &#34;Measure&#34;}}, {&#34;args&#34;: [[&#34;q&#34;, [2]], [&#34;q&#34;, [3]]], &#34;op&#34;: {&#34;type&#34;: &#34;CX&#34;}}, {&#34;args&#34;: [[&#34;q&#34;, [2]], [&#34;c&#34;, [2]]], &#34;op&#34;: {&#34;type&#34;: &#34;Measure&#34;}}, {&#34;args&#34;: [[&#34;q&#34;, [3]], [&#34;q&#34;, [4]]], &#34;op&#34;: {&#34;type&#34;: &#34;CX&#34;}}, {&#34;args&#34;: [[&#34;q&#34;, [3]], [&#34;c&#34;, [3]]], &#34;op&#34;: {&#34;type&#34;: &#34;Measure&#34;}}, {&#34;args&#34;: [[&#34;q&#34;, [4]], [&#34;c&#34;, [4]]], &#34;op&#34;: {&#34;type&#34;: &#34;Measure&#34;}}], &#34;created_qubits&#34;: [], &#34;discarded_qubits&#34;: [], &#34;implicit_permutation&#34;: [[[&#34;q&#34;, [0]], [&#34;q&#34;, [0]]], [[&#34;q&#34;, [1]], [&#34;q&#34;, [1]]], [[&#34;q&#34;, [2]], [&#34;q&#34;, [2]]], [[&#34;q&#34;, [3]], [&#34;q&#34;, [3]]], [[&#34;q&#34;, [4]], [&#34;q&#34;, [4]]]], &#34;phase&#34;: &#34;0.0&#34;, &#34;qubits&#34;: [[&#34;q&#34;, [0]], [&#34;q&#34;, [1]], [&#34;q&#34;, [2]], [&#34;q&#34;, [3]], [&#34;q&#34;, [4]]]}&lt;/div&gt;\n",
       "        &lt;/div&gt;\n",
       "        &lt;circuit-display-container\n",
       "                :circuit-element-str=&#34;&#39;#circuit-json-to-display&#39;&#34;\n",
       "                :init-render-options=&#34;initRenderOptions&#34;\n",
       "        &gt;&lt;/circuit-display-container&gt;\n",
       "    &lt;/div&gt;\n",
       "    &lt;script type=&#34;application/javascript&#34;&gt;\n",
       "      const circuitRendererUid = &#34;431cde34-8151-4033-8128-b977c3baf6ac&#34;;\n",
       "      const displayOptions = JSON.parse(&#39;{}&#39;);\n",
       "\n",
       "      // Script to initialise the circuit renderer app\n",
       "\n",
       "const { createApp } = Vue;\n",
       "const circuitDisplayContainer = window[&#34;pytket-circuit-renderer&#34;].default;\n",
       "// Init variables to be shared between circuit display instances\n",
       "if (typeof window.pytketCircuitDisplays === &#34;undefined&#34;) {\n",
       "    window.pytketCircuitDisplays = {};\n",
       "}\n",
       "// Create the root Vue component\n",
       "const app = createApp({\n",
       "    delimiters: [&#39;[[#&#39;, &#39;#]]&#39;],\n",
       "    components: { circuitDisplayContainer },\n",
       "    data () {\n",
       "      return {\n",
       "        initRenderOptions: displayOptions,\n",
       "      }\n",
       "    }\n",
       "})\n",
       "app.config.unwrapInjectedRef = true;\n",
       "app.mount(&#34;#circuit-display-vue-container-&#34;+circuitRendererUid);\n",
       "window.pytketCircuitDisplays[circuitRendererUid] = app;\n",
       "    &lt;/script&gt;\n",
       "\n",
       "\n",
       "\n",
       "&lt;/body&gt;\n",
       "&lt;/html&gt;\n",
       "\"\n",
       "            width=\"100%\" height=\"100%\"\n",
       "            style=\"border: none; outline: none; overflow: auto\"></iframe>\n",
       "</div>\n",
       "\n"
      ],
      "text/plain": [
       "<IPython.core.display.HTML object>"
      ]
     },
     "metadata": {},
     "output_type": "display_data"
    }
   ],
   "source": [
    "n_qubits = 5\n",
    "c = Circuit(n_qubits)\n",
    "\n",
    "# Prepare ghz state\n",
    "c.H(0).CX(0, 1).CX(1, 2).CX(2, 3).CX(3, 4).measure_all()\n",
    "rcj(c)"
   ]
  },
  {
   "attachments": {},
   "cell_type": "markdown",
   "metadata": {},
   "source": [
    "As a comparison, we'll run the same circuit on a noiseless simulator, a noisy simulator, and a noisy simulator with error mitigation applied."
   ]
  },
  {
   "attachments": {},
   "cell_type": "markdown",
   "metadata": {},
   "source": [
    "## Execute on noiseless Aer backend"
   ]
  },
  {
   "cell_type": "code",
   "execution_count": 18,
   "metadata": {},
   "outputs": [
    {
     "data": {
      "image/png": "[encoded data removed]",
      "text/plain": [
       "<Figure size 400x300 with 1 Axes>"
      ]
     },
     "metadata": {},
     "output_type": "display_data"
    }
   ],
   "source": [
    "c_compiled = aer_backend_no_noise.get_compiled_circuit(c)\n",
    "handle = aer_backend_no_noise.process_circuit(c_compiled, n_shots=500)\n",
    "result = aer_backend_no_noise.get_result(handle)\n",
    "counts_no_noise = result.get_counts()\n",
    "\n",
    "plot_bars(counts_no_noise, \"No noise simulator, no error mitigation\", x_tick_labels=[tuple_to_ket(x) for x in counts_no_noise.keys()]);"
   ]
  },
  {
   "cell_type": "code",
   "execution_count": 19,
   "metadata": {},
   "outputs": [
    {
     "name": "stdout",
     "output_type": "stream",
     "text": [
      "Counter({(0, 0, 0, 0, 0): 230, (1, 1, 1, 1, 1): 228, (0, 1, 1, 1, 1): 8, (0, 0, 0, 1, 0): 6, (0, 0, 0, 0, 1): 4, (1, 0, 0, 0, 0): 4, (1, 1, 0, 1, 1): 4, (0, 0, 1, 0, 0): 3, (0, 1, 0, 0, 0): 3, (1, 0, 1, 1, 1): 3, (1, 1, 1, 0, 1): 3, (1, 1, 1, 1, 0): 2, (1, 0, 1, 0, 1): 1, (1, 1, 1, 0, 0): 1})\n"
     ]
    },
    {
     "data": {
      "image/png": "[encoded data removed]",
      "text/plain": [
       "<Figure size 400x300 with 1 Axes>"
      ]
     },
     "metadata": {},
     "output_type": "display_data"
    }
   ],
   "source": [
    "# Execute on noisy simulator\n",
    "c_c = noisy_aer_backend.get_compiled_circuit(c)\n",
    "h = noisy_aer_backend.process_circuit(c_c, n_shots=500)\n",
    "r = noisy_aer_backend.get_result(h)\n",
    "cs_noise = r.get_counts()\n",
    "print(cs_noise)\n",
    "plot_bars(cs_noise, \"Noisy simulator, no error mitigation\", x_tick_labels=[tuple_to_ket(x) for x in cs_noise.keys()]);"
   ]
  },
  {
   "attachments": {},
   "cell_type": "markdown",
   "metadata": {},
   "source": [
    "## Using MitRes in Qermit"
   ]
  },
  {
   "attachments": {},
   "cell_type": "markdown",
   "metadata": {},
   "source": [
    "Qermit is based on task graphs which show the pipeline of processes which will take place. This should be familiar from the [tket example notebook](pytket_tutorial.ipynb).\n",
    "\n",
    "For a normal, non-error mitigated circuit, the task graph involves:\n",
    "1. Compile to fit the backend\n",
    "2. Execute on the backend, returning handles\n",
    "3. Use handles to get results\n",
    "\n",
    "The task graph can be extended with various error mitigation methods.\n",
    "\n",
    "To start off, let's look at the basic task graph which compiles the circuit and returns results from handles as usual:"
   ]
  },
  {
   "cell_type": "code",
   "execution_count": 20,
   "metadata": {},
   "outputs": [
    {
     "data": {
      "image/svg+xml": [
       "<?xml version=\"1.0\" encoding=\"UTF-8\" standalone=\"no\"?>\n",
       "<!DOCTYPE svg PUBLIC \"-//W3C//DTD SVG 1.1//EN\"\n",
       " \"http://www.w3.org/Graphics/SVG/1.1/DTD/svg11.dtd\">\n",
       "<!-- Generated by graphviz version 8.0.5 (20230430.1635)\n",
       " -->\n",
       "<!-- Title: MitRes Pages: 1 -->\n",
       "<svg width=\"150pt\" height=\"380pt\"\n",
       " viewBox=\"0.00 0.00 150.25 380.00\" xmlns=\"http://www.w3.org/2000/svg\" xmlns:xlink=\"http://www.w3.org/1999/xlink\">\n",
       "<g id=\"graph0\" class=\"graph\" transform=\"scale(1 1) rotate(0) translate(4 376)\">\n",
       "<title>MitRes</title>\n",
       "<polygon fill=\"white\" stroke=\"none\" points=\"-4,4 -4,-376 146.25,-376 146.25,4 -4,4\"/>\n",
       "<!-- Inputs -->\n",
       "<g id=\"node1\" class=\"node\">\n",
       "<title>Inputs</title>\n",
       "<polygon fill=\"white\" stroke=\"none\" points=\"43.88,-319.75 43.88,-372 98.38,-372 98.38,-319.75 43.88,-319.75\"/>\n",
       "<text text-anchor=\"start\" x=\"50.88\" y=\"-355.55\" font-family=\"monospace\" font-weight=\"bold\" font-size=\"11.00\">Inputs</text>\n",
       "<polygon fill=\"white\" stroke=\"none\" points=\"49.88,-325.75 49.88,-343 92.38,-343 92.38,-325.75 49.88,-325.75\"/>\n",
       "<polygon fill=\"none\" stroke=\"#6bb24d\" points=\"49.88,-325.75 49.88,-343 92.38,-343 92.38,-325.75 49.88,-325.75\"/>\n",
       "<text text-anchor=\"start\" x=\"68.12\" y=\"-330.5\" font-family=\"monospace\" font-size=\"10.00\">0</text>\n",
       "<polygon fill=\"none\" stroke=\"white\" points=\"43.88,-319.75 43.88,-372 98.38,-372 98.38,-319.75 43.88,-319.75\"/>\n",
       "</g>\n",
       "<!-- CompileCircuitShots -->\n",
       "<g id=\"node5\" class=\"node\">\n",
       "<title>CompileCircuitShots</title>\n",
       "<polygon fill=\"#c0dd8e\" stroke=\"none\" points=\"0,-233.25 0,-311.75 142.25,-311.75 142.25,-233.25 0,-233.25\"/>\n",
       "<polygon fill=\"white\" stroke=\"none\" points=\"6,-288.5 6,-305.75 136.25,-305.75 136.25,-288.5 6,-288.5\"/>\n",
       "<polygon fill=\"none\" stroke=\"#6bb24d\" points=\"6,-288.5 6,-305.75 136.25,-305.75 136.25,-288.5 6,-288.5\"/>\n",
       "<text text-anchor=\"start\" x=\"68.12\" y=\"-293.25\" font-family=\"monospace\" font-size=\"10.00\">0</text>\n",
       "<text text-anchor=\"start\" x=\"7\" y=\"-269.05\" font-family=\"monospace\" font-weight=\"bold\" font-size=\"11.00\">CompileCircuitShots</text>\n",
       "<polygon fill=\"white\" stroke=\"none\" points=\"6,-239.25 6,-256.5 136.25,-256.5 136.25,-239.25 6,-239.25\"/>\n",
       "<polygon fill=\"none\" stroke=\"#6bb24d\" points=\"6,-239.25 6,-256.5 136.25,-256.5 136.25,-239.25 6,-239.25\"/>\n",
       "<text text-anchor=\"start\" x=\"68.12\" y=\"-244\" font-family=\"monospace\" font-size=\"10.00\">0</text>\n",
       "<polygon fill=\"none\" stroke=\"white\" points=\"0,-233.25 0,-311.75 142.25,-311.75 142.25,-233.25 0,-233.25\"/>\n",
       "</g>\n",
       "<!-- Inputs&#45;&gt;CompileCircuitShots -->\n",
       "<g id=\"edge1\" class=\"edge\">\n",
       "<title>Inputs:out_0&#45;&gt;CompileCircuitShots:in_0</title>\n",
       "<path fill=\"none\" stroke=\"#6bb24d\" stroke-width=\"1.5\" d=\"M71.12,-324.88C71.12,-316.71 71.12,-314.67 71.12,-306.5\"/>\n",
       "</g>\n",
       "<!-- CircuitsToHandles -->\n",
       "<g id=\"node2\" class=\"node\">\n",
       "<title>CircuitsToHandles</title>\n",
       "<polygon fill=\"#c0dd8e\" stroke=\"none\" points=\"6.75,-146.75 6.75,-225.25 135.5,-225.25 135.5,-146.75 6.75,-146.75\"/>\n",
       "<polygon fill=\"white\" stroke=\"none\" points=\"12.75,-202 12.75,-219.25 129.5,-219.25 129.5,-202 12.75,-202\"/>\n",
       "<polygon fill=\"none\" stroke=\"#6bb24d\" points=\"12.75,-202 12.75,-219.25 129.5,-219.25 129.5,-202 12.75,-202\"/>\n",
       "<text text-anchor=\"start\" x=\"68.12\" y=\"-206.75\" font-family=\"monospace\" font-size=\"10.00\">0</text>\n",
       "<text text-anchor=\"start\" x=\"13.75\" y=\"-182.55\" font-family=\"monospace\" font-weight=\"bold\" font-size=\"11.00\">CircuitsToHandles</text>\n",
       "<polygon fill=\"white\" stroke=\"none\" points=\"12.75,-152.75 12.75,-170 129.5,-170 129.5,-152.75 12.75,-152.75\"/>\n",
       "<polygon fill=\"none\" stroke=\"#6bb24d\" points=\"12.75,-152.75 12.75,-170 129.5,-170 129.5,-152.75 12.75,-152.75\"/>\n",
       "<text text-anchor=\"start\" x=\"68.12\" y=\"-157.5\" font-family=\"monospace\" font-size=\"10.00\">0</text>\n",
       "<polygon fill=\"none\" stroke=\"white\" points=\"6.75,-146.75 6.75,-225.25 135.5,-225.25 135.5,-146.75 6.75,-146.75\"/>\n",
       "</g>\n",
       "<!-- HandlesToResults -->\n",
       "<g id=\"node3\" class=\"node\">\n",
       "<title>HandlesToResults</title>\n",
       "<polygon fill=\"#c0dd8e\" stroke=\"none\" points=\"10.12,-60.25 10.12,-138.75 132.12,-138.75 132.12,-60.25 10.12,-60.25\"/>\n",
       "<polygon fill=\"white\" stroke=\"none\" points=\"16.12,-115.5 16.12,-132.75 126.12,-132.75 126.12,-115.5 16.12,-115.5\"/>\n",
       "<polygon fill=\"none\" stroke=\"#6bb24d\" points=\"16.12,-115.5 16.12,-132.75 126.12,-132.75 126.12,-115.5 16.12,-115.5\"/>\n",
       "<text text-anchor=\"start\" x=\"68.12\" y=\"-120.25\" font-family=\"monospace\" font-size=\"10.00\">0</text>\n",
       "<text text-anchor=\"start\" x=\"17.12\" y=\"-96.05\" font-family=\"monospace\" font-weight=\"bold\" font-size=\"11.00\">HandlesToResults</text>\n",
       "<polygon fill=\"white\" stroke=\"none\" points=\"16.12,-66.25 16.12,-83.5 126.12,-83.5 126.12,-66.25 16.12,-66.25\"/>\n",
       "<polygon fill=\"none\" stroke=\"#6bb24d\" points=\"16.12,-66.25 16.12,-83.5 126.12,-83.5 126.12,-66.25 16.12,-66.25\"/>\n",
       "<text text-anchor=\"start\" x=\"68.12\" y=\"-71\" font-family=\"monospace\" font-size=\"10.00\">0</text>\n",
       "<polygon fill=\"none\" stroke=\"white\" points=\"10.12,-60.25 10.12,-138.75 132.12,-138.75 132.12,-60.25 10.12,-60.25\"/>\n",
       "</g>\n",
       "<!-- CircuitsToHandles&#45;&gt;HandlesToResults -->\n",
       "<g id=\"edge2\" class=\"edge\">\n",
       "<title>CircuitsToHandles:out_0&#45;&gt;HandlesToResults:in_0</title>\n",
       "<path fill=\"none\" stroke=\"#6bb24d\" stroke-width=\"1.5\" d=\"M71.12,-152C71.12,-143.78 71.12,-141.72 71.12,-133.5\"/>\n",
       "</g>\n",
       "<!-- Outputs -->\n",
       "<g id=\"node4\" class=\"node\">\n",
       "<title>Outputs</title>\n",
       "<polygon fill=\"white\" stroke=\"none\" points=\"40.5,0 40.5,-52.25 101.75,-52.25 101.75,0 40.5,0\"/>\n",
       "<polygon fill=\"white\" stroke=\"none\" points=\"46.5,-29 46.5,-46.25 95.75,-46.25 95.75,-29 46.5,-29\"/>\n",
       "<polygon fill=\"none\" stroke=\"#6bb24d\" points=\"46.5,-29 46.5,-46.25 95.75,-46.25 95.75,-29 46.5,-29\"/>\n",
       "<text text-anchor=\"start\" x=\"68.12\" y=\"-33.75\" font-family=\"monospace\" font-size=\"10.00\">0</text>\n",
       "<text text-anchor=\"start\" x=\"47.5\" y=\"-9.55\" font-family=\"monospace\" font-weight=\"bold\" font-size=\"11.00\">Outputs</text>\n",
       "<polygon fill=\"none\" stroke=\"white\" points=\"40.5,0 40.5,-52.25 101.75,-52.25 101.75,0 40.5,0\"/>\n",
       "</g>\n",
       "<!-- HandlesToResults&#45;&gt;Outputs -->\n",
       "<g id=\"edge3\" class=\"edge\">\n",
       "<title>HandlesToResults:out_0&#45;&gt;Outputs:in_0</title>\n",
       "<path fill=\"none\" stroke=\"#6bb24d\" stroke-width=\"1.5\" d=\"M71.12,-65.5C71.12,-57.33 71.12,-55.29 71.12,-47.12\"/>\n",
       "</g>\n",
       "<!-- CompileCircuitShots&#45;&gt;CircuitsToHandles -->\n",
       "<g id=\"edge4\" class=\"edge\">\n",
       "<title>CompileCircuitShots:out_0&#45;&gt;CircuitsToHandles:in_0</title>\n",
       "<path fill=\"none\" stroke=\"#6bb24d\" stroke-width=\"1.5\" d=\"M71.12,-238.5C71.12,-230.28 71.12,-228.22 71.12,-220\"/>\n",
       "</g>\n",
       "</g>\n",
       "</svg>\n"
      ],
      "text/plain": [
       "<graphviz.graphs.Digraph at 0x28a287790>"
      ]
     },
     "execution_count": 20,
     "metadata": {},
     "output_type": "execute_result"
    }
   ],
   "source": [
    "from qermit.taskgraph import gen_compiled_MitRes\n",
    "\n",
    "basic_mitres = gen_compiled_MitRes(backend=noisy_aer_backend)\n",
    "basic_mitres.get_task_graph()"
   ]
  },
  {
   "attachments": {},
   "cell_type": "markdown",
   "metadata": {},
   "source": [
    "Calling `.run` on a `MitRes` object makes it go through and perform all the actions in the task graph.\n",
    "\n",
    "`.run` must be performed on a list of `CircuitShots` objects."
   ]
  },
  {
   "cell_type": "code",
   "execution_count": 21,
   "metadata": {},
   "outputs": [
    {
     "name": "stdout",
     "output_type": "stream",
     "text": [
      "CircuitShots(Circuit=[H q[0]; CX q[0], q[1]; Measure q[0] --> c[0]; CX q[1], q[2]; Measure q[1] --> c[1]; CX q[2], q[3]; Measure q[2] --> c[2]; CX q[3], q[4]; Measure q[3] --> c[3]; Measure q[4] --> c[4]; ], Shots=50)\n"
     ]
    }
   ],
   "source": [
    "from qermit import CircuitShots\n",
    "\n",
    "# Have a look at the CircuitShots object\n",
    "print(CircuitShots(Circuit=c, Shots=50))"
   ]
  },
  {
   "attachments": {},
   "cell_type": "markdown",
   "metadata": {},
   "source": [
    "Now let's run a simple example by running the task graph on the `CircuitShots`:"
   ]
  },
  {
   "cell_type": "code",
   "execution_count": 22,
   "metadata": {},
   "outputs": [
    {
     "name": "stdout",
     "output_type": "stream",
     "text": [
      "Counter({(1, 1, 1, 1, 1): 24, (0, 0, 0, 0, 0): 16, (0, 1, 0, 0, 0): 2, (0, 1, 1, 1, 0): 2, (1, 1, 1, 1, 0): 2, (0, 0, 0, 1, 0): 1, (1, 0, 0, 0, 0): 1, (1, 1, 0, 0, 0): 1, (1, 1, 0, 1, 1): 1})\n"
     ]
    }
   ],
   "source": [
    "example_experiment = [CircuitShots(Circuit=c, Shots=50)]\n",
    "results = basic_mitres.run(example_experiment)\n",
    "print(results[0].get_counts())"
   ]
  },
  {
   "attachments": {},
   "cell_type": "markdown",
   "metadata": {},
   "source": [
    "## SPAM Mitigation"
   ]
  },
  {
   "attachments": {},
   "cell_type": "markdown",
   "metadata": {},
   "source": [
    "SPAM stands for State Preparation and Measurement, and it's an important source of error in quantum circuits. SPAM mitigation works by repeatedly preparing and mreasuring a basis state to get an idea of the error in the preparation and measurement.\n",
    "\n",
    "Let's have a look at the task graph for SPAM mitigation:"
   ]
  },
  {
   "cell_type": "code",
   "execution_count": 23,
   "metadata": {},
   "outputs": [
    {
     "data": {
      "image/svg+xml": [
       "<?xml version=\"1.0\" encoding=\"UTF-8\" standalone=\"no\"?>\n",
       "<!DOCTYPE svg PUBLIC \"-//W3C//DTD SVG 1.1//EN\"\n",
       " \"http://www.w3.org/Graphics/SVG/1.1/DTD/svg11.dtd\">\n",
       "<!-- Generated by graphviz version 8.0.5 (20230430.1635)\n",
       " -->\n",
       "<!-- Title: SPAMCorrection Pages: 1 -->\n",
       "<svg width=\"290pt\" height=\"640pt\"\n",
       " viewBox=\"0.00 0.00 290.12 639.50\" xmlns=\"http://www.w3.org/2000/svg\" xmlns:xlink=\"http://www.w3.org/1999/xlink\">\n",
       "<g id=\"graph0\" class=\"graph\" transform=\"scale(1 1) rotate(0) translate(4 635.5)\">\n",
       "<title>SPAMCorrection</title>\n",
       "<polygon fill=\"white\" stroke=\"none\" points=\"-4,4 -4,-635.5 286.12,-635.5 286.12,4 -4,4\"/>\n",
       "<!-- Inputs -->\n",
       "<g id=\"node1\" class=\"node\">\n",
       "<title>Inputs</title>\n",
       "<polygon fill=\"white\" stroke=\"none\" points=\"160.12,-579.25 160.12,-631.5 214.62,-631.5 214.62,-579.25 160.12,-579.25\"/>\n",
       "<text text-anchor=\"start\" x=\"167.12\" y=\"-615.05\" font-family=\"monospace\" font-weight=\"bold\" font-size=\"11.00\">Inputs</text>\n",
       "<polygon fill=\"white\" stroke=\"none\" points=\"166.12,-585.25 166.12,-602.5 208.62,-602.5 208.62,-585.25 166.12,-585.25\"/>\n",
       "<polygon fill=\"none\" stroke=\"#6bb24d\" points=\"166.12,-585.25 166.12,-602.5 208.62,-602.5 208.62,-585.25 166.12,-585.25\"/>\n",
       "<text text-anchor=\"start\" x=\"184.38\" y=\"-590\" font-family=\"monospace\" font-size=\"10.00\">0</text>\n",
       "<polygon fill=\"none\" stroke=\"white\" points=\"160.12,-579.25 160.12,-631.5 214.62,-631.5 214.62,-579.25 160.12,-579.25\"/>\n",
       "</g>\n",
       "<!-- SPAMFullTomographyCircuits -->\n",
       "<g id=\"node8\" class=\"node\">\n",
       "<title>SPAMFullTomographyCircuits</title>\n",
       "<polygon fill=\"#c0dd8e\" stroke=\"none\" points=\"92.62,-492.75 92.62,-571.25 282.12,-571.25 282.12,-492.75 92.62,-492.75\"/>\n",
       "<polygon fill=\"white\" stroke=\"none\" points=\"98.62,-548 98.62,-565.25 276.12,-565.25 276.12,-548 98.62,-548\"/>\n",
       "<polygon fill=\"none\" stroke=\"#6bb24d\" points=\"98.62,-548 98.62,-565.25 276.12,-565.25 276.12,-548 98.62,-548\"/>\n",
       "<text text-anchor=\"start\" x=\"184.38\" y=\"-552.75\" font-family=\"monospace\" font-size=\"10.00\">0</text>\n",
       "<text text-anchor=\"start\" x=\"99.62\" y=\"-528.55\" font-family=\"monospace\" font-weight=\"bold\" font-size=\"11.00\">SPAMFullTomographyCircuits</text>\n",
       "<polygon fill=\"white\" stroke=\"none\" points=\"98.62,-498.75 98.62,-516 155.79,-516 155.79,-498.75 98.62,-498.75\"/>\n",
       "<polygon fill=\"none\" stroke=\"#6bb24d\" points=\"98.62,-498.75 98.62,-516 155.79,-516 155.79,-498.75 98.62,-498.75\"/>\n",
       "<text text-anchor=\"start\" x=\"124.21\" y=\"-503.5\" font-family=\"monospace\" font-size=\"10.00\">0</text>\n",
       "<polygon fill=\"white\" stroke=\"none\" points=\"158.79,-498.75 158.79,-516 215.96,-516 215.96,-498.75 158.79,-498.75\"/>\n",
       "<polygon fill=\"none\" stroke=\"#6bb24d\" points=\"158.79,-498.75 158.79,-516 215.96,-516 215.96,-498.75 158.79,-498.75\"/>\n",
       "<text text-anchor=\"start\" x=\"184.38\" y=\"-503.5\" font-family=\"monospace\" font-size=\"10.00\">1</text>\n",
       "<polygon fill=\"white\" stroke=\"none\" points=\"218.96,-498.75 218.96,-516 276.12,-516 276.12,-498.75 218.96,-498.75\"/>\n",
       "<polygon fill=\"none\" stroke=\"#6bb24d\" points=\"218.96,-498.75 218.96,-516 276.12,-516 276.12,-498.75 218.96,-498.75\"/>\n",
       "<text text-anchor=\"start\" x=\"244.54\" y=\"-503.5\" font-family=\"monospace\" font-size=\"10.00\">2</text>\n",
       "<polygon fill=\"none\" stroke=\"white\" points=\"92.62,-492.75 92.62,-571.25 282.12,-571.25 282.12,-492.75 92.62,-492.75\"/>\n",
       "</g>\n",
       "<!-- Inputs&#45;&gt;SPAMFullTomographyCircuits -->\n",
       "<g id=\"edge1\" class=\"edge\">\n",
       "<title>Inputs:out_0&#45;&gt;SPAMFullTomographyCircuits:in_0</title>\n",
       "<path fill=\"none\" stroke=\"#6bb24d\" stroke-width=\"1.5\" d=\"M187.38,-584.38C187.38,-576.21 187.38,-574.17 187.38,-566\"/>\n",
       "</g>\n",
       "<!-- CircuitsToHandles -->\n",
       "<g id=\"node2\" class=\"node\">\n",
       "<title>CircuitsToHandles</title>\n",
       "<polygon fill=\"#c0dd8e\" stroke=\"none\" points=\"0,-233.25 0,-311.75 128.75,-311.75 128.75,-233.25 0,-233.25\"/>\n",
       "<polygon fill=\"white\" stroke=\"none\" points=\"6,-288.5 6,-305.75 122.75,-305.75 122.75,-288.5 6,-288.5\"/>\n",
       "<polygon fill=\"none\" stroke=\"#6bb24d\" points=\"6,-288.5 6,-305.75 122.75,-305.75 122.75,-288.5 6,-288.5\"/>\n",
       "<text text-anchor=\"start\" x=\"61.38\" y=\"-293.25\" font-family=\"monospace\" font-size=\"10.00\">0</text>\n",
       "<text text-anchor=\"start\" x=\"7\" y=\"-269.05\" font-family=\"monospace\" font-weight=\"bold\" font-size=\"11.00\">CircuitsToHandles</text>\n",
       "<polygon fill=\"white\" stroke=\"none\" points=\"6,-239.25 6,-256.5 122.75,-256.5 122.75,-239.25 6,-239.25\"/>\n",
       "<polygon fill=\"none\" stroke=\"#6bb24d\" points=\"6,-239.25 6,-256.5 122.75,-256.5 122.75,-239.25 6,-239.25\"/>\n",
       "<text text-anchor=\"start\" x=\"61.38\" y=\"-244\" font-family=\"monospace\" font-size=\"10.00\">0</text>\n",
       "<polygon fill=\"none\" stroke=\"white\" points=\"0,-233.25 0,-311.75 128.75,-311.75 128.75,-233.25 0,-233.25\"/>\n",
       "</g>\n",
       "<!-- HandlesToResults -->\n",
       "<g id=\"node3\" class=\"node\">\n",
       "<title>HandlesToResults</title>\n",
       "<polygon fill=\"#c0dd8e\" stroke=\"none\" points=\"5.38,-146.75 5.38,-225.25 127.38,-225.25 127.38,-146.75 5.38,-146.75\"/>\n",
       "<polygon fill=\"white\" stroke=\"none\" points=\"11.38,-202 11.38,-219.25 121.38,-219.25 121.38,-202 11.38,-202\"/>\n",
       "<polygon fill=\"none\" stroke=\"#6bb24d\" points=\"11.38,-202 11.38,-219.25 121.38,-219.25 121.38,-202 11.38,-202\"/>\n",
       "<text text-anchor=\"start\" x=\"63.38\" y=\"-206.75\" font-family=\"monospace\" font-size=\"10.00\">0</text>\n",
       "<text text-anchor=\"start\" x=\"12.38\" y=\"-182.55\" font-family=\"monospace\" font-weight=\"bold\" font-size=\"11.00\">HandlesToResults</text>\n",
       "<polygon fill=\"white\" stroke=\"none\" points=\"11.38,-152.75 11.38,-170 121.38,-170 121.38,-152.75 11.38,-152.75\"/>\n",
       "<polygon fill=\"none\" stroke=\"#6bb24d\" points=\"11.38,-152.75 11.38,-170 121.38,-170 121.38,-152.75 11.38,-152.75\"/>\n",
       "<text text-anchor=\"start\" x=\"63.38\" y=\"-157.5\" font-family=\"monospace\" font-size=\"10.00\">0</text>\n",
       "<polygon fill=\"none\" stroke=\"white\" points=\"5.38,-146.75 5.38,-225.25 127.38,-225.25 127.38,-146.75 5.38,-146.75\"/>\n",
       "</g>\n",
       "<!-- CircuitsToHandles&#45;&gt;HandlesToResults -->\n",
       "<g id=\"edge2\" class=\"edge\">\n",
       "<title>CircuitsToHandles:out_0&#45;&gt;HandlesToResults:in_0</title>\n",
       "<path fill=\"none\" stroke=\"#6bb24d\" stroke-width=\"1.5\" d=\"M64.38,-238.5C64.38,-230.23 66.38,-228.27 66.38,-220\"/>\n",
       "</g>\n",
       "<!-- SPAMFullCorrection -->\n",
       "<g id=\"node9\" class=\"node\">\n",
       "<title>SPAMFullCorrection</title>\n",
       "<polygon fill=\"#c0dd8e\" stroke=\"none\" points=\"77.62,-60.25 77.62,-138.75 213.12,-138.75 213.12,-60.25 77.62,-60.25\"/>\n",
       "<polygon fill=\"white\" stroke=\"none\" points=\"83.62,-115.5 83.62,-132.75 122.79,-132.75 122.79,-115.5 83.62,-115.5\"/>\n",
       "<polygon fill=\"none\" stroke=\"#6bb24d\" points=\"83.62,-115.5 83.62,-132.75 122.79,-132.75 122.79,-115.5 83.62,-115.5\"/>\n",
       "<text text-anchor=\"start\" x=\"100.21\" y=\"-120.25\" font-family=\"monospace\" font-size=\"10.00\">0</text>\n",
       "<polygon fill=\"white\" stroke=\"none\" points=\"125.79,-115.5 125.79,-132.75 164.96,-132.75 164.96,-115.5 125.79,-115.5\"/>\n",
       "<polygon fill=\"none\" stroke=\"#6bb24d\" points=\"125.79,-115.5 125.79,-132.75 164.96,-132.75 164.96,-115.5 125.79,-115.5\"/>\n",
       "<text text-anchor=\"start\" x=\"142.38\" y=\"-120.25\" font-family=\"monospace\" font-size=\"10.00\">1</text>\n",
       "<polygon fill=\"white\" stroke=\"none\" points=\"167.96,-115.5 167.96,-132.75 207.12,-132.75 207.12,-115.5 167.96,-115.5\"/>\n",
       "<polygon fill=\"none\" stroke=\"#6bb24d\" points=\"167.96,-115.5 167.96,-132.75 207.12,-132.75 207.12,-115.5 167.96,-115.5\"/>\n",
       "<text text-anchor=\"start\" x=\"184.54\" y=\"-120.25\" font-family=\"monospace\" font-size=\"10.00\">2</text>\n",
       "<text text-anchor=\"start\" x=\"84.62\" y=\"-96.05\" font-family=\"monospace\" font-weight=\"bold\" font-size=\"11.00\">SPAMFullCorrection</text>\n",
       "<polygon fill=\"white\" stroke=\"none\" points=\"83.62,-66.25 83.62,-83.5 207.12,-83.5 207.12,-66.25 83.62,-66.25\"/>\n",
       "<polygon fill=\"none\" stroke=\"#6bb24d\" points=\"83.62,-66.25 83.62,-83.5 207.12,-83.5 207.12,-66.25 83.62,-66.25\"/>\n",
       "<text text-anchor=\"start\" x=\"142.38\" y=\"-71\" font-family=\"monospace\" font-size=\"10.00\">0</text>\n",
       "<polygon fill=\"none\" stroke=\"white\" points=\"77.62,-60.25 77.62,-138.75 213.12,-138.75 213.12,-60.25 77.62,-60.25\"/>\n",
       "</g>\n",
       "<!-- HandlesToResults&#45;&gt;SPAMFullCorrection -->\n",
       "<g id=\"edge3\" class=\"edge\">\n",
       "<title>HandlesToResults:out_0&#45;&gt;SPAMFullCorrection:in_0</title>\n",
       "<path fill=\"none\" stroke=\"#6bb24d\" stroke-width=\"1.5\" d=\"M122.38,-161C128.72,-161 125.55,-151.54 121.38,-146.75 110.04,-133.74 94.71,-151.76 83.38,-138.75 79.2,-133.96 76.03,-124.5 82.38,-124.5\"/>\n",
       "</g>\n",
       "<!-- Outputs -->\n",
       "<g id=\"node4\" class=\"node\">\n",
       "<title>Outputs</title>\n",
       "<polygon fill=\"white\" stroke=\"none\" points=\"114.75,0 114.75,-52.25 176,-52.25 176,0 114.75,0\"/>\n",
       "<polygon fill=\"white\" stroke=\"none\" points=\"120.75,-29 120.75,-46.25 170,-46.25 170,-29 120.75,-29\"/>\n",
       "<polygon fill=\"none\" stroke=\"#6bb24d\" points=\"120.75,-29 120.75,-46.25 170,-46.25 170,-29 120.75,-29\"/>\n",
       "<text text-anchor=\"start\" x=\"142.38\" y=\"-33.75\" font-family=\"monospace\" font-size=\"10.00\">0</text>\n",
       "<text text-anchor=\"start\" x=\"121.75\" y=\"-9.55\" font-family=\"monospace\" font-weight=\"bold\" font-size=\"11.00\">Outputs</text>\n",
       "<polygon fill=\"none\" stroke=\"white\" points=\"114.75,0 114.75,-52.25 176,-52.25 176,0 114.75,0\"/>\n",
       "</g>\n",
       "<!-- GetBitQubitMaps -->\n",
       "<g id=\"node5\" class=\"node\">\n",
       "<title>GetBitQubitMaps</title>\n",
       "<polygon fill=\"#c0dd8e\" stroke=\"none\" points=\"33.75,-319.75 33.75,-398.25 149,-398.25 149,-319.75 33.75,-319.75\"/>\n",
       "<polygon fill=\"white\" stroke=\"none\" points=\"39.75,-375 39.75,-392.25 143,-392.25 143,-375 39.75,-375\"/>\n",
       "<polygon fill=\"none\" stroke=\"#6bb24d\" points=\"39.75,-375 39.75,-392.25 143,-392.25 143,-375 39.75,-375\"/>\n",
       "<text text-anchor=\"start\" x=\"88.38\" y=\"-379.75\" font-family=\"monospace\" font-size=\"10.00\">0</text>\n",
       "<text text-anchor=\"start\" x=\"40.75\" y=\"-355.55\" font-family=\"monospace\" font-weight=\"bold\" font-size=\"11.00\">GetBitQubitMaps</text>\n",
       "<polygon fill=\"white\" stroke=\"none\" points=\"39.75,-325.75 39.75,-343 89.88,-343 89.88,-325.75 39.75,-325.75\"/>\n",
       "<polygon fill=\"none\" stroke=\"#6bb24d\" points=\"39.75,-325.75 39.75,-343 89.88,-343 89.88,-325.75 39.75,-325.75\"/>\n",
       "<text text-anchor=\"start\" x=\"61.81\" y=\"-330.5\" font-family=\"monospace\" font-size=\"10.00\">0</text>\n",
       "<polygon fill=\"white\" stroke=\"none\" points=\"92.88,-325.75 92.88,-343 143,-343 143,-325.75 92.88,-325.75\"/>\n",
       "<polygon fill=\"none\" stroke=\"#6bb24d\" points=\"92.88,-325.75 92.88,-343 143,-343 143,-325.75 92.88,-325.75\"/>\n",
       "<text text-anchor=\"start\" x=\"114.94\" y=\"-330.5\" font-family=\"monospace\" font-size=\"10.00\">1</text>\n",
       "<polygon fill=\"none\" stroke=\"white\" points=\"33.75,-319.75 33.75,-398.25 149,-398.25 149,-319.75 33.75,-319.75\"/>\n",
       "</g>\n",
       "<!-- GetBitQubitMaps&#45;&gt;CircuitsToHandles -->\n",
       "<g id=\"edge4\" class=\"edge\">\n",
       "<title>GetBitQubitMaps:out_0&#45;&gt;CircuitsToHandles:in_0</title>\n",
       "<path fill=\"none\" stroke=\"#6bb24d\" stroke-width=\"1.5\" d=\"M64.38,-325C64.38,-316.78 64.38,-314.72 64.38,-306.5\"/>\n",
       "</g>\n",
       "<!-- GetBitQubitMaps&#45;&gt;SPAMFullCorrection -->\n",
       "<g id=\"edge5\" class=\"edge\">\n",
       "<title>GetBitQubitMaps:out_1&#45;&gt;SPAMFullCorrection:in_1</title>\n",
       "<path fill=\"none\" stroke=\"#6bb24d\" stroke-width=\"1.5\" d=\"M118.38,-325C118.38,-315.77 130.19,-319.98 134.38,-311.75 170.35,-241 145.38,-212.87 145.38,-133.5\"/>\n",
       "</g>\n",
       "<!-- CompileCircuitShots -->\n",
       "<g id=\"node6\" class=\"node\">\n",
       "<title>CompileCircuitShots</title>\n",
       "<polygon fill=\"#c0dd8e\" stroke=\"none\" points=\"9.25,-406.25 9.25,-484.75 151.5,-484.75 151.5,-406.25 9.25,-406.25\"/>\n",
       "<polygon fill=\"white\" stroke=\"none\" points=\"15.25,-461.5 15.25,-478.75 145.5,-478.75 145.5,-461.5 15.25,-461.5\"/>\n",
       "<polygon fill=\"none\" stroke=\"#6bb24d\" points=\"15.25,-461.5 15.25,-478.75 145.5,-478.75 145.5,-461.5 15.25,-461.5\"/>\n",
       "<text text-anchor=\"start\" x=\"77.38\" y=\"-466.25\" font-family=\"monospace\" font-size=\"10.00\">0</text>\n",
       "<text text-anchor=\"start\" x=\"16.25\" y=\"-442.05\" font-family=\"monospace\" font-weight=\"bold\" font-size=\"11.00\">CompileCircuitShots</text>\n",
       "<polygon fill=\"white\" stroke=\"none\" points=\"15.25,-412.25 15.25,-429.5 145.5,-429.5 145.5,-412.25 15.25,-412.25\"/>\n",
       "<polygon fill=\"none\" stroke=\"#6bb24d\" points=\"15.25,-412.25 15.25,-429.5 145.5,-429.5 145.5,-412.25 15.25,-412.25\"/>\n",
       "<text text-anchor=\"start\" x=\"77.38\" y=\"-417\" font-family=\"monospace\" font-size=\"10.00\">0</text>\n",
       "<polygon fill=\"none\" stroke=\"white\" points=\"9.25,-406.25 9.25,-484.75 151.5,-484.75 151.5,-406.25 9.25,-406.25\"/>\n",
       "</g>\n",
       "<!-- CompileCircuitShots&#45;&gt;GetBitQubitMaps -->\n",
       "<g id=\"edge6\" class=\"edge\">\n",
       "<title>CompileCircuitShots:out_0&#45;&gt;GetBitQubitMaps:in_0</title>\n",
       "<path fill=\"none\" stroke=\"#6bb24d\" stroke-width=\"1.5\" d=\"M80.38,-411.5C80.38,-401.93 91.38,-402.57 91.38,-393\"/>\n",
       "</g>\n",
       "<!-- SPAMCalibration -->\n",
       "<g id=\"node7\" class=\"node\">\n",
       "<title>SPAMCalibration</title>\n",
       "<polygon fill=\"#c0dd8e\" stroke=\"none\" points=\"162.75,-406.25 162.75,-484.75 278,-484.75 278,-406.25 162.75,-406.25\"/>\n",
       "<polygon fill=\"white\" stroke=\"none\" points=\"168.75,-461.5 168.75,-478.75 218.88,-478.75 218.88,-461.5 168.75,-461.5\"/>\n",
       "<polygon fill=\"none\" stroke=\"#6bb24d\" points=\"168.75,-461.5 168.75,-478.75 218.88,-478.75 218.88,-461.5 168.75,-461.5\"/>\n",
       "<text text-anchor=\"start\" x=\"190.81\" y=\"-466.25\" font-family=\"monospace\" font-size=\"10.00\">0</text>\n",
       "<polygon fill=\"white\" stroke=\"none\" points=\"221.88,-461.5 221.88,-478.75 272,-478.75 272,-461.5 221.88,-461.5\"/>\n",
       "<polygon fill=\"none\" stroke=\"#6bb24d\" points=\"221.88,-461.5 221.88,-478.75 272,-478.75 272,-461.5 221.88,-461.5\"/>\n",
       "<text text-anchor=\"start\" x=\"243.94\" y=\"-466.25\" font-family=\"monospace\" font-size=\"10.00\">1</text>\n",
       "<text text-anchor=\"start\" x=\"169.75\" y=\"-442.05\" font-family=\"monospace\" font-weight=\"bold\" font-size=\"11.00\">SPAMCalibration</text>\n",
       "<polygon fill=\"white\" stroke=\"none\" points=\"168.75,-412.25 168.75,-429.5 272,-429.5 272,-412.25 168.75,-412.25\"/>\n",
       "<polygon fill=\"none\" stroke=\"#6bb24d\" points=\"168.75,-412.25 168.75,-429.5 272,-429.5 272,-412.25 168.75,-412.25\"/>\n",
       "<text text-anchor=\"start\" x=\"217.38\" y=\"-417\" font-family=\"monospace\" font-size=\"10.00\">0</text>\n",
       "<polygon fill=\"none\" stroke=\"white\" points=\"162.75,-406.25 162.75,-484.75 278,-484.75 278,-406.25 162.75,-406.25\"/>\n",
       "</g>\n",
       "<!-- SPAMCalibration&#45;&gt;SPAMFullCorrection -->\n",
       "<g id=\"edge7\" class=\"edge\">\n",
       "<title>SPAMCalibration:out_0&#45;&gt;SPAMFullCorrection:in_2</title>\n",
       "<path fill=\"none\" stroke=\"#6bb24d\" stroke-width=\"1.5\" d=\"M220.38,-411.5C220.38,-287.08 187.38,-257.92 187.38,-133.5\"/>\n",
       "</g>\n",
       "<!-- SPAMFullTomographyCircuits&#45;&gt;CompileCircuitShots -->\n",
       "<g id=\"edge8\" class=\"edge\">\n",
       "<title>SPAMFullTomographyCircuits:out_0&#45;&gt;CompileCircuitShots:in_0</title>\n",
       "<path fill=\"none\" stroke=\"#6bb24d\" stroke-width=\"1.5\" d=\"M97.38,-507C91.03,-507 94.11,-497.46 98.38,-492.75 112.6,-477.05 131.15,-500.45 145.38,-484.75 149.64,-480.04 152.72,-470.5 146.38,-470.5\"/>\n",
       "</g>\n",
       "<!-- SPAMFullTomographyCircuits&#45;&gt;SPAMCalibration -->\n",
       "<g id=\"edge9\" class=\"edge\">\n",
       "<title>SPAMFullTomographyCircuits:out_1&#45;&gt;SPAMCalibration:in_0</title>\n",
       "<path fill=\"none\" stroke=\"#6bb24d\" stroke-width=\"1.5\" d=\"M187.38,-498C187.38,-489.36 193.38,-488.14 193.38,-479.5\"/>\n",
       "</g>\n",
       "<!-- SPAMFullTomographyCircuits&#45;&gt;SPAMCalibration -->\n",
       "<g id=\"edge10\" class=\"edge\">\n",
       "<title>SPAMFullTomographyCircuits:out_2&#45;&gt;SPAMCalibration:in_1</title>\n",
       "<path fill=\"none\" stroke=\"#6bb24d\" stroke-width=\"1.5\" d=\"M247.38,-498C247.38,-489.78 247.38,-487.72 247.38,-479.5\"/>\n",
       "</g>\n",
       "<!-- SPAMFullCorrection&#45;&gt;Outputs -->\n",
       "<g id=\"edge11\" class=\"edge\">\n",
       "<title>SPAMFullCorrection:out_0&#45;&gt;Outputs:in_0</title>\n",
       "<path fill=\"none\" stroke=\"#6bb24d\" stroke-width=\"1.5\" d=\"M145.38,-65.5C145.38,-57.33 145.38,-55.29 145.38,-47.12\"/>\n",
       "</g>\n",
       "</g>\n",
       "</svg>\n"
      ],
      "text/plain": [
       "<graphviz.graphs.Digraph at 0x28a21ae20>"
      ]
     },
     "execution_count": 23,
     "metadata": {},
     "output_type": "execute_result"
    }
   ],
   "source": [
    "from qermit.spam import gen_UnCorrelated_SPAM_MitRes\n",
    "\n",
    "# The 'uncorrelated' here means the qubit errors are assumed to be \n",
    "# independent of each other.\n",
    "# This might not be true! -- see the manual for other options.\n",
    "\n",
    "spam_mitres = gen_UnCorrelated_SPAM_MitRes(\n",
    "    backend=noisy_aer_backend,\n",
    "    calibration_shots=500\n",
    ")\n",
    "spam_mitres.get_task_graph()"
   ]
  },
  {
   "attachments": {},
   "cell_type": "markdown",
   "metadata": {},
   "source": [
    "Now let's compare two sets of results -- one using the basic `MitRes` graph with no error mitigation, and one using the SPAM mitigation task grpah."
   ]
  },
  {
   "cell_type": "code",
   "execution_count": 24,
   "metadata": {},
   "outputs": [],
   "source": [
    "noisy_experiment = [CircuitShots(Circuit=c, Shots=500)]\n",
    "noisy_results = basic_mitres.run(noisy_experiment)\n",
    "\n",
    "noisy_counts = noisy_results[0].get_counts()"
   ]
  },
  {
   "cell_type": "code",
   "execution_count": 25,
   "metadata": {},
   "outputs": [],
   "source": [
    "spam_mitigated_mitres = spam_mitres.run(noisy_experiment)\n",
    "mitigated_counts = spam_mitigated_mitres[0].get_counts()\n"
   ]
  },
  {
   "attachments": {},
   "cell_type": "markdown",
   "metadata": {},
   "source": [
    "Now let's look at the results. Since this is a Bell test, we know what ideal results should look like: an exact 50/50 split between the two all-0s and all-1s states. We'll use this as a comparison"
   ]
  },
  {
   "cell_type": "code",
   "execution_count": 26,
   "metadata": {},
   "outputs": [],
   "source": [
    "ideal_counts = {(0, 0, 0, 0, 0): 250, (1, 1, 1, 1, 1): 250}"
   ]
  },
  {
   "attachments": {},
   "cell_type": "markdown",
   "metadata": {},
   "source": [
    "We'll plot:\n",
    "- Those 'ideal' results\n",
    "- Results on the noisy device\n",
    "- Results using SPAM mitigation"
   ]
  },
  {
   "cell_type": "code",
   "execution_count": 27,
   "metadata": {},
   "outputs": [
    {
     "data": {
      "image/png": "[encoded data removed]",
      "text/plain": [
       "<Figure size 640x480 with 1 Axes>"
      ]
     },
     "metadata": {},
     "output_type": "display_data"
    }
   ],
   "source": [
    "plot_multiple_bars([ideal_counts, noisy_counts, mitigated_counts,], ['Ideal', 'Noisy', 'Mitigated'])"
   ]
  },
  {
   "cell_type": "markdown",
   "metadata": {},
   "source": [
    "### Error mitigation with multiple circuits"
   ]
  },
  {
   "attachments": {},
   "cell_type": "markdown",
   "metadata": {},
   "source": [
    "Doing the same error mitigation with multiple circuits works in exactly the same way -- you just need to pass a list of `CircuitShots` objects instead of a single one:"
   ]
  },
  {
   "cell_type": "code",
   "execution_count": 28,
   "metadata": {},
   "outputs": [
    {
     "name": "stdout",
     "output_type": "stream",
     "text": [
      "Counter({(0, 0, 0, 0, 0): 224, (1, 1, 1, 1, 1): 222, (0, 1, 1, 1, 1): 9, (1, 1, 1, 1, 0): 9, (1, 1, 0, 1, 1): 7, (0, 1, 0, 0, 0): 6, (1, 0, 0, 0, 0): 5, (0, 0, 0, 1, 0): 4, (0, 0, 0, 0, 1): 3, (1, 0, 1, 1, 1): 3, (1, 1, 1, 0, 1): 3, (0, 0, 1, 1, 1): 2, (1, 0, 1, 0, 1): 1, (1, 0, 1, 1, 0): 1, (1, 1, 0, 0, 1): 1})\n"
     ]
    }
   ],
   "source": [
    "lots_of_circuits = [c.copy() for _ in range(10)]\n",
    "\n",
    "lots_of_circuits_noisy_experiment = [CircuitShots(Circuit=ci, Shots=500) for ci in lots_of_circuits]\n",
    "lots_of_circuits_noisy_results = basic_mitres.run(lots_of_circuits_noisy_experiment)\n",
    "\n",
    "lots_of_circuits_counts = [r.get_counts() for r in lots_of_circuits_noisy_results]\n",
    "\n",
    "# Print counts for the first circuit\n",
    "print(lots_of_circuits_counts[0])"
   ]
  },
  {
   "attachments": {},
   "cell_type": "markdown",
   "metadata": {},
   "source": [
    "### MitRes with Myqos"
   ]
  },
  {
   "attachments": {},
   "cell_type": "markdown",
   "metadata": {},
   "source": [
    "This works in a very similar way to before, just with a `MyqosBackend` rather than a tket one."
   ]
  },
  {
   "cell_type": "code",
   "execution_count": 29,
   "metadata": {},
   "outputs": [],
   "source": [
    "from pytket.extensions.myqos import Myqos, MyqosBackend, AerConfig, IBMQEmulatorConfig\n",
    "\n",
    "myqos = Myqos()\n",
    "myqos.login()"
   ]
  },
  {
   "cell_type": "code",
   "execution_count": 33,
   "metadata": {},
   "outputs": [
    {
     "name": "stdout",
     "output_type": "stream",
     "text": [
      "\n",
      "Started using experiment with name: test\n"
     ]
    }
   ],
   "source": [
    "config = IBMQEmulatorConfig(backend_name='ibm_lagos', hub='YOUR HUB HERE', group='YOUR GROUP HERE', project='YOUR PROJECT HERE')\n",
    "\n",
    "try:\n",
    "    experiment = myqos.new_experiment('test')\n",
    "\n",
    "except:\n",
    "    experiment = myqos.get_experiment_by_name('test')\n",
    "\n",
    "noisy_myqos_backend = MyqosBackend(config, experiment=experiment, remote=True)"
   ]
  },
  {
   "cell_type": "code",
   "execution_count": 34,
   "metadata": {},
   "outputs": [],
   "source": [
    "config = AerConfig()\n",
    "backend = MyqosBackend(config)"
   ]
  },
  {
   "cell_type": "code",
   "execution_count": 35,
   "metadata": {},
   "outputs": [],
   "source": [
    "myqos_spam_mitres = gen_UnCorrelated_SPAM_MitRes(\n",
    "    backend=noisy_myqos_backend,\n",
    "    calibration_shots=500\n",
    ")"
   ]
  },
  {
   "cell_type": "code",
   "execution_count": 42,
   "metadata": {},
   "outputs": [],
   "source": [
    "myqos_spam_experiment = [CircuitShots(Circuit=c, Shots=500)]"
   ]
  },
  {
   "cell_type": "code",
   "execution_count": 43,
   "metadata": {},
   "outputs": [],
   "source": [
    "myqos_spam_results = myqos_spam_mitres.run(myqos_spam_experiment)"
   ]
  },
  {
   "cell_type": "code",
   "execution_count": 44,
   "metadata": {
    "vscode": {
     "languageId": "javascript"
    }
   },
   "outputs": [
    {
     "name": "stdout",
     "output_type": "stream",
     "text": [
      "Counter({(1, 1, 1, 1, 1): 237, (0, 0, 0, 0, 0): 235, (0, 1, 0, 0, 0): 8, (1, 0, 1, 1, 1): 7, (0, 1, 1, 1, 1): 5, (0, 0, 1, 0, 0): 3, (1, 1, 0, 0, 0): 2, (1, 1, 1, 0, 0): 2, (0, 0, 1, 1, 1): 2, (0, 0, 0, 0, 1): 1, (1, 1, 1, 0, 1): 1, (0, 0, 0, 1, 1): 1})\n"
     ]
    }
   ],
   "source": [
    "myqos_spam_counts = myqos_spam_results[0].get_counts()\n",
    "print(myqos_spam_counts)"
   ]
  },
  {
   "attachments": {},
   "cell_type": "markdown",
   "metadata": {},
   "source": [
    "## Zero noise extrapolation"
   ]
  },
  {
   "attachments": {},
   "cell_type": "markdown",
   "metadata": {},
   "source": [
    "The method above is concerned with mitigating the individual counts you get back from a quantum device.\n",
    "\n",
    "However, we're often concerned with the expectation value of a particular observable, i.e. the average of the counts you get back from a quantum device.\n",
    "\n",
    "The `MitEx` object in qermit can be used to perform error mitigation on the expectation values. "
   ]
  },
  {
   "attachments": {},
   "cell_type": "markdown",
   "metadata": {},
   "source": [
    "Zero noise extrapolation (ZNE) is a nifty way of estimating noise-free expectation values. You can read more about it in [this paper](https://arxiv.org/abs/2005.10921).\n",
    "\n",
    "It works by artificially _increasing_ the noise in the circuit, looking at how that affects the expectation values, then extrapolating back to the zero-noise case."
   ]
  },
  {
   "cell_type": "markdown",
   "metadata": {},
   "source": [
    "### Using MitEx"
   ]
  },
  {
   "attachments": {},
   "cell_type": "markdown",
   "metadata": {},
   "source": [
    "Similar to `MitRes`, `MitEx` has a task graph which can be extended with various error mitigation methods."
   ]
  },
  {
   "cell_type": "code",
   "execution_count": 79,
   "metadata": {},
   "outputs": [
    {
     "data": {
      "image/svg+xml": [
       "<?xml version=\"1.0\" encoding=\"UTF-8\" standalone=\"no\"?>\n",
       "<!DOCTYPE svg PUBLIC \"-//W3C//DTD SVG 1.1//EN\"\n",
       " \"http://www.w3.org/Graphics/SVG/1.1/DTD/svg11.dtd\">\n",
       "<!-- Generated by graphviz version 8.0.5 (20230430.1635)\n",
       " -->\n",
       "<!-- Title: MitEx Pages: 1 -->\n",
       "<svg width=\"239pt\" height=\"553pt\"\n",
       " viewBox=\"0.00 0.00 238.88 553.00\" xmlns=\"http://www.w3.org/2000/svg\" xmlns:xlink=\"http://www.w3.org/1999/xlink\">\n",
       "<g id=\"graph0\" class=\"graph\" transform=\"scale(1 1) rotate(0) translate(4 549)\">\n",
       "<title>MitEx</title>\n",
       "<polygon fill=\"white\" stroke=\"none\" points=\"-4,4 -4,-549 234.88,-549 234.88,4 -4,4\"/>\n",
       "<!-- Inputs -->\n",
       "<g id=\"node1\" class=\"node\">\n",
       "<title>Inputs</title>\n",
       "<polygon fill=\"white\" stroke=\"none\" points=\"118.12,-492.75 118.12,-545 172.62,-545 172.62,-492.75 118.12,-492.75\"/>\n",
       "<text text-anchor=\"start\" x=\"125.12\" y=\"-528.55\" font-family=\"monospace\" font-weight=\"bold\" font-size=\"11.00\">Inputs</text>\n",
       "<polygon fill=\"white\" stroke=\"none\" points=\"124.12,-498.75 124.12,-516 166.62,-516 166.62,-498.75 124.12,-498.75\"/>\n",
       "<polygon fill=\"none\" stroke=\"#6bb24d\" points=\"124.12,-498.75 124.12,-516 166.62,-516 166.62,-498.75 124.12,-498.75\"/>\n",
       "<text text-anchor=\"start\" x=\"142.38\" y=\"-503.5\" font-family=\"monospace\" font-size=\"10.00\">0</text>\n",
       "<polygon fill=\"none\" stroke=\"white\" points=\"118.12,-492.75 118.12,-545 172.62,-545 172.62,-492.75 118.12,-492.75\"/>\n",
       "</g>\n",
       "<!-- FilterObservableTracker -->\n",
       "<g id=\"node2\" class=\"node\">\n",
       "<title>FilterObservableTracker</title>\n",
       "<polygon fill=\"#c0dd8e\" stroke=\"none\" points=\"60.75,-406.25 60.75,-484.75 230,-484.75 230,-406.25 60.75,-406.25\"/>\n",
       "<polygon fill=\"white\" stroke=\"none\" points=\"66.75,-461.5 66.75,-478.75 224,-478.75 224,-461.5 66.75,-461.5\"/>\n",
       "<polygon fill=\"none\" stroke=\"#6bb24d\" points=\"66.75,-461.5 66.75,-478.75 224,-478.75 224,-461.5 66.75,-461.5\"/>\n",
       "<text text-anchor=\"start\" x=\"142.38\" y=\"-466.25\" font-family=\"monospace\" font-size=\"10.00\">0</text>\n",
       "<text text-anchor=\"start\" x=\"67.75\" y=\"-442.05\" font-family=\"monospace\" font-weight=\"bold\" font-size=\"11.00\">FilterObservableTracker</text>\n",
       "<polygon fill=\"white\" stroke=\"none\" points=\"66.75,-412.25 66.75,-429.5 143.88,-429.5 143.88,-412.25 66.75,-412.25\"/>\n",
       "<polygon fill=\"none\" stroke=\"#6bb24d\" points=\"66.75,-412.25 66.75,-429.5 143.88,-429.5 143.88,-412.25 66.75,-412.25\"/>\n",
       "<text text-anchor=\"start\" x=\"102.31\" y=\"-417\" font-family=\"monospace\" font-size=\"10.00\">0</text>\n",
       "<polygon fill=\"white\" stroke=\"none\" points=\"146.88,-412.25 146.88,-429.5 224,-429.5 224,-412.25 146.88,-412.25\"/>\n",
       "<polygon fill=\"none\" stroke=\"#6bb24d\" points=\"146.88,-412.25 146.88,-429.5 224,-429.5 224,-412.25 146.88,-412.25\"/>\n",
       "<text text-anchor=\"start\" x=\"182.44\" y=\"-417\" font-family=\"monospace\" font-size=\"10.00\">1</text>\n",
       "<polygon fill=\"none\" stroke=\"white\" points=\"60.75,-406.25 60.75,-484.75 230,-484.75 230,-406.25 60.75,-406.25\"/>\n",
       "</g>\n",
       "<!-- Inputs&#45;&gt;FilterObservableTracker -->\n",
       "<g id=\"edge1\" class=\"edge\">\n",
       "<title>Inputs:out_0&#45;&gt;FilterObservableTracker:in_0</title>\n",
       "<path fill=\"none\" stroke=\"#6bb24d\" stroke-width=\"1.5\" d=\"M145.38,-497.88C145.38,-489.71 145.38,-487.67 145.38,-479.5\"/>\n",
       "</g>\n",
       "<!-- CollateExperimentCircuits -->\n",
       "<g id=\"node3\" class=\"node\">\n",
       "<title>CollateExperimentCircuits</title>\n",
       "<polygon fill=\"#c0dd8e\" stroke=\"none\" points=\"0,-319.75 0,-398.25 182.75,-398.25 182.75,-319.75 0,-319.75\"/>\n",
       "<polygon fill=\"white\" stroke=\"none\" points=\"6,-375 6,-392.25 176.75,-392.25 176.75,-375 6,-375\"/>\n",
       "<polygon fill=\"none\" stroke=\"#6bb24d\" points=\"6,-375 6,-392.25 176.75,-392.25 176.75,-375 6,-375\"/>\n",
       "<text text-anchor=\"start\" x=\"88.38\" y=\"-379.75\" font-family=\"monospace\" font-size=\"10.00\">0</text>\n",
       "<text text-anchor=\"start\" x=\"7\" y=\"-355.55\" font-family=\"monospace\" font-weight=\"bold\" font-size=\"11.00\">CollateExperimentCircuits</text>\n",
       "<polygon fill=\"white\" stroke=\"none\" points=\"6,-325.75 6,-343 89.88,-343 89.88,-325.75 6,-325.75\"/>\n",
       "<polygon fill=\"none\" stroke=\"#6bb24d\" points=\"6,-325.75 6,-343 89.88,-343 89.88,-325.75 6,-325.75\"/>\n",
       "<text text-anchor=\"start\" x=\"44.94\" y=\"-330.5\" font-family=\"monospace\" font-size=\"10.00\">0</text>\n",
       "<polygon fill=\"white\" stroke=\"none\" points=\"92.88,-325.75 92.88,-343 176.75,-343 176.75,-325.75 92.88,-325.75\"/>\n",
       "<polygon fill=\"none\" stroke=\"#6bb24d\" points=\"92.88,-325.75 92.88,-343 176.75,-343 176.75,-325.75 92.88,-325.75\"/>\n",
       "<text text-anchor=\"start\" x=\"131.81\" y=\"-330.5\" font-family=\"monospace\" font-size=\"10.00\">1</text>\n",
       "<polygon fill=\"none\" stroke=\"white\" points=\"0,-319.75 0,-398.25 182.75,-398.25 182.75,-319.75 0,-319.75\"/>\n",
       "</g>\n",
       "<!-- FilterObservableTracker&#45;&gt;CollateExperimentCircuits -->\n",
       "<g id=\"edge2\" class=\"edge\">\n",
       "<title>FilterObservableTracker:out_0&#45;&gt;CollateExperimentCircuits:in_0</title>\n",
       "<path fill=\"none\" stroke=\"#6bb24d\" stroke-width=\"1.5\" d=\"M105.38,-411.5C105.38,-379.4 155.01,-422.21 176.38,-398.25 180.6,-393.51 183.72,-384 177.38,-384\"/>\n",
       "</g>\n",
       "<!-- GenerateExpectations -->\n",
       "<g id=\"node6\" class=\"node\">\n",
       "<title>GenerateExpectations</title>\n",
       "<polygon fill=\"#c0dd8e\" stroke=\"none\" points=\"81.88,-60.25 81.88,-138.75 230.88,-138.75 230.88,-60.25 81.88,-60.25\"/>\n",
       "<polygon fill=\"white\" stroke=\"none\" points=\"87.88,-115.5 87.88,-132.75 154.88,-132.75 154.88,-115.5 87.88,-115.5\"/>\n",
       "<polygon fill=\"none\" stroke=\"#6bb24d\" points=\"87.88,-115.5 87.88,-132.75 154.88,-132.75 154.88,-115.5 87.88,-115.5\"/>\n",
       "<text text-anchor=\"start\" x=\"118.38\" y=\"-120.25\" font-family=\"monospace\" font-size=\"10.00\">0</text>\n",
       "<polygon fill=\"white\" stroke=\"none\" points=\"157.88,-115.5 157.88,-132.75 224.88,-132.75 224.88,-115.5 157.88,-115.5\"/>\n",
       "<polygon fill=\"none\" stroke=\"#6bb24d\" points=\"157.88,-115.5 157.88,-132.75 224.88,-132.75 224.88,-115.5 157.88,-115.5\"/>\n",
       "<text text-anchor=\"start\" x=\"188.38\" y=\"-120.25\" font-family=\"monospace\" font-size=\"10.00\">1</text>\n",
       "<text text-anchor=\"start\" x=\"88.88\" y=\"-96.05\" font-family=\"monospace\" font-weight=\"bold\" font-size=\"11.00\">GenerateExpectations</text>\n",
       "<polygon fill=\"white\" stroke=\"none\" points=\"87.88,-66.25 87.88,-83.5 224.88,-83.5 224.88,-66.25 87.88,-66.25\"/>\n",
       "<polygon fill=\"none\" stroke=\"#6bb24d\" points=\"87.88,-66.25 87.88,-83.5 224.88,-83.5 224.88,-66.25 87.88,-66.25\"/>\n",
       "<text text-anchor=\"start\" x=\"153.38\" y=\"-71\" font-family=\"monospace\" font-size=\"10.00\">0</text>\n",
       "<polygon fill=\"none\" stroke=\"white\" points=\"81.88,-60.25 81.88,-138.75 230.88,-138.75 230.88,-60.25 81.88,-60.25\"/>\n",
       "</g>\n",
       "<!-- FilterObservableTracker&#45;&gt;GenerateExpectations -->\n",
       "<g id=\"edge3\" class=\"edge\">\n",
       "<title>FilterObservableTracker:out_1&#45;&gt;GenerateExpectations:in_1</title>\n",
       "<path fill=\"none\" stroke=\"#6bb24d\" stroke-width=\"1.5\" d=\"M185.38,-411.5C185.38,-405.46 187.67,-404.25 188.38,-398.25 202.11,-281.38 191.38,-251.17 191.38,-133.5\"/>\n",
       "</g>\n",
       "<!-- MitRes -->\n",
       "<g id=\"node4\" class=\"node\">\n",
       "<title>MitRes</title>\n",
       "<polygon fill=\"#c0dd8e\" stroke=\"none\" points=\"42.12,-233.25 42.12,-311.75 96.62,-311.75 96.62,-233.25 42.12,-233.25\"/>\n",
       "<polygon fill=\"white\" stroke=\"none\" points=\"48.12,-288.5 48.12,-305.75 90.62,-305.75 90.62,-288.5 48.12,-288.5\"/>\n",
       "<polygon fill=\"none\" stroke=\"#6bb24d\" points=\"48.12,-288.5 48.12,-305.75 90.62,-305.75 90.62,-288.5 48.12,-288.5\"/>\n",
       "<text text-anchor=\"start\" x=\"66.38\" y=\"-293.25\" font-family=\"monospace\" font-size=\"10.00\">0</text>\n",
       "<text text-anchor=\"start\" x=\"49.12\" y=\"-269.05\" font-family=\"monospace\" font-weight=\"bold\" font-size=\"11.00\">MitRes</text>\n",
       "<polygon fill=\"white\" stroke=\"none\" points=\"48.12,-239.25 48.12,-256.5 90.62,-256.5 90.62,-239.25 48.12,-239.25\"/>\n",
       "<polygon fill=\"none\" stroke=\"#6bb24d\" points=\"48.12,-239.25 48.12,-256.5 90.62,-256.5 90.62,-239.25 48.12,-239.25\"/>\n",
       "<text text-anchor=\"start\" x=\"66.38\" y=\"-244\" font-family=\"monospace\" font-size=\"10.00\">0</text>\n",
       "<polygon fill=\"none\" stroke=\"white\" points=\"42.12,-233.25 42.12,-311.75 96.62,-311.75 96.62,-233.25 42.12,-233.25\"/>\n",
       "</g>\n",
       "<!-- CollateExperimentCircuits&#45;&gt;MitRes -->\n",
       "<g id=\"edge4\" class=\"edge\">\n",
       "<title>CollateExperimentCircuits:out_0&#45;&gt;MitRes:in_0</title>\n",
       "<path fill=\"none\" stroke=\"#6bb24d\" stroke-width=\"1.5\" d=\"M48.38,-325C48.38,-312.56 69.38,-318.94 69.38,-306.5\"/>\n",
       "</g>\n",
       "<!-- SplitResults -->\n",
       "<g id=\"node5\" class=\"node\">\n",
       "<title>SplitResults</title>\n",
       "<polygon fill=\"#c0dd8e\" stroke=\"none\" points=\"64.88,-146.75 64.88,-225.25 159.88,-225.25 159.88,-146.75 64.88,-146.75\"/>\n",
       "<polygon fill=\"white\" stroke=\"none\" points=\"70.88,-202 70.88,-219.25 110.88,-219.25 110.88,-202 70.88,-202\"/>\n",
       "<polygon fill=\"none\" stroke=\"#6bb24d\" points=\"70.88,-202 70.88,-219.25 110.88,-219.25 110.88,-202 70.88,-202\"/>\n",
       "<text text-anchor=\"start\" x=\"87.88\" y=\"-206.75\" font-family=\"monospace\" font-size=\"10.00\">0</text>\n",
       "<polygon fill=\"white\" stroke=\"none\" points=\"113.88,-202 113.88,-219.25 153.88,-219.25 153.88,-202 113.88,-202\"/>\n",
       "<polygon fill=\"none\" stroke=\"#6bb24d\" points=\"113.88,-202 113.88,-219.25 153.88,-219.25 153.88,-202 113.88,-202\"/>\n",
       "<text text-anchor=\"start\" x=\"130.88\" y=\"-206.75\" font-family=\"monospace\" font-size=\"10.00\">1</text>\n",
       "<text text-anchor=\"start\" x=\"71.88\" y=\"-182.55\" font-family=\"monospace\" font-weight=\"bold\" font-size=\"11.00\">SplitResults</text>\n",
       "<polygon fill=\"white\" stroke=\"none\" points=\"70.88,-152.75 70.88,-170 153.88,-170 153.88,-152.75 70.88,-152.75\"/>\n",
       "<polygon fill=\"none\" stroke=\"#6bb24d\" points=\"70.88,-152.75 70.88,-170 153.88,-170 153.88,-152.75 70.88,-152.75\"/>\n",
       "<text text-anchor=\"start\" x=\"109.38\" y=\"-157.5\" font-family=\"monospace\" font-size=\"10.00\">0</text>\n",
       "<polygon fill=\"none\" stroke=\"white\" points=\"64.88,-146.75 64.88,-225.25 159.88,-225.25 159.88,-146.75 64.88,-146.75\"/>\n",
       "</g>\n",
       "<!-- CollateExperimentCircuits&#45;&gt;SplitResults -->\n",
       "<g id=\"edge5\" class=\"edge\">\n",
       "<title>CollateExperimentCircuits:out_1&#45;&gt;SplitResults:in_1</title>\n",
       "<path fill=\"none\" stroke=\"#6bb24d\" stroke-width=\"1.5\" d=\"M134.38,-325C134.38,-278.33 134.38,-266.67 134.38,-220\"/>\n",
       "</g>\n",
       "<!-- MitRes&#45;&gt;SplitResults -->\n",
       "<g id=\"edge6\" class=\"edge\">\n",
       "<title>MitRes:out_0&#45;&gt;SplitResults:in_0</title>\n",
       "<path fill=\"none\" stroke=\"#6bb24d\" stroke-width=\"1.5\" d=\"M91.38,-247.5C103.61,-247.5 90.38,-232.23 90.38,-220\"/>\n",
       "</g>\n",
       "<!-- SplitResults&#45;&gt;GenerateExpectations -->\n",
       "<g id=\"edge7\" class=\"edge\">\n",
       "<title>SplitResults:out_0&#45;&gt;GenerateExpectations:in_0</title>\n",
       "<path fill=\"none\" stroke=\"#6bb24d\" stroke-width=\"1.5\" d=\"M155.38,-161C161.72,-161 158.11,-151.88 154.38,-146.75 145.07,-133.97 121.38,-149.3 121.38,-133.5\"/>\n",
       "</g>\n",
       "<!-- Outputs -->\n",
       "<g id=\"node7\" class=\"node\">\n",
       "<title>Outputs</title>\n",
       "<polygon fill=\"white\" stroke=\"none\" points=\"125.75,0 125.75,-52.25 187,-52.25 187,0 125.75,0\"/>\n",
       "<polygon fill=\"white\" stroke=\"none\" points=\"131.75,-29 131.75,-46.25 181,-46.25 181,-29 131.75,-29\"/>\n",
       "<polygon fill=\"none\" stroke=\"#6bb24d\" points=\"131.75,-29 131.75,-46.25 181,-46.25 181,-29 131.75,-29\"/>\n",
       "<text text-anchor=\"start\" x=\"153.38\" y=\"-33.75\" font-family=\"monospace\" font-size=\"10.00\">0</text>\n",
       "<text text-anchor=\"start\" x=\"132.75\" y=\"-9.55\" font-family=\"monospace\" font-weight=\"bold\" font-size=\"11.00\">Outputs</text>\n",
       "<polygon fill=\"none\" stroke=\"white\" points=\"125.75,0 125.75,-52.25 187,-52.25 187,0 125.75,0\"/>\n",
       "</g>\n",
       "<!-- GenerateExpectations&#45;&gt;Outputs -->\n",
       "<g id=\"edge8\" class=\"edge\">\n",
       "<title>GenerateExpectations:out_0&#45;&gt;Outputs:in_0</title>\n",
       "<path fill=\"none\" stroke=\"#6bb24d\" stroke-width=\"1.5\" d=\"M156.38,-65.5C156.38,-57.33 156.38,-55.29 156.38,-47.12\"/>\n",
       "</g>\n",
       "</g>\n",
       "</svg>\n"
      ],
      "text/plain": [
       "<graphviz.graphs.Digraph at 0x292b596d0>"
      ]
     },
     "execution_count": 79,
     "metadata": {},
     "output_type": "execute_result"
    }
   ],
   "source": [
    "from qermit import MitEx\n",
    "from pytket.extensions.qiskit import AerBackend, IBMQEmulatorBackend\n",
    "\n",
    "noisy_backend = IBMQEmulatorBackend('ibm_lagos')\n",
    "\n",
    "# mitex = MitEx(backend=AerBackend())\n",
    "mitex = MitEx(backend=noisy_backend)\n",
    "mitex.get_task_graph()"
   ]
  },
  {
   "cell_type": "markdown",
   "metadata": {},
   "source": [
    "In order to run a circuit with `MitEx`, you first need to deal with a couple of things."
   ]
  },
  {
   "attachments": {},
   "cell_type": "markdown",
   "metadata": {},
   "source": [
    "### Pauli operators"
   ]
  },
  {
   "attachments": {},
   "cell_type": "markdown",
   "metadata": {},
   "source": [
    "First, you need to define what observable you're going to measure. This is a `QubitPauliOperator`, which might consist of a number of `QubitPauliString`s. For example, you might be interested in expectation value of the operator:\n",
    "\n",
    "$\\^O = 0.5 X_0 Y_1 Z_2 - Z_0 Z_2$.\n",
    "\n",
    "This would be respresented in python as:\n",
    "\n",
    "```python\n",
    "from pytket import Qubit\n",
    "from pytket.pauli import QubitPauliOperator, QubitPauliString, Pauli\n",
    "\n",
    "xyz = QubitPauliString({Qubit(0): Pauli.X, Qubit(1): Pauli.Y, Qubit(2): Pauli.Z})\n",
    "zz = QubitPauliString({Qubit(0): Pauli.Z, Qubit(2): Pauli.Z})\n",
    "op = QubitPauliOperator({xyz: 0.5, zz: 1.0})\n",
    "```\n",
    "\n",
    "If you wanted the Z expectation value for each individual qubit, you could use:\n",
    "    \n",
    "```python\n",
    "strings = [QubitPauliString({Qubit(i): Pauli.Z}) for i in range(n_qubits)]\n",
    "op = QubitPauliOperator({s: 1.0 for s in strings})\n",
    "```\n",
    "This is the one we'll use in the example below."
   ]
  },
  {
   "attachments": {},
   "cell_type": "markdown",
   "metadata": {},
   "source": [
    "### Running an experiment"
   ]
  },
  {
   "attachments": {},
   "cell_type": "markdown",
   "metadata": {},
   "source": [
    "In order to run a `MitEx`, you define an `ObservableExperiment` which takes:\n",
    "- An `AnsatzCircuit`. This takes:\n",
    "  - A `Circuit`\n",
    "  - The number of shots\n",
    "  - A symbols dictionary for substituting in values for the symbols in the circuit\n",
    "- An `ObservableTracker`\n",
    "  - This takes the `QubitPauliOperator` you want to measure"
   ]
  },
  {
   "attachments": {},
   "cell_type": "markdown",
   "metadata": {},
   "source": [
    "Let's now run an experiment with `MitEx`, but not yet using any error mitigation."
   ]
  },
  {
   "attachments": {},
   "cell_type": "markdown",
   "metadata": {},
   "source": [
    "We first need to define the `AnsatzCircuit`:"
   ]
  },
  {
   "cell_type": "code",
   "execution_count": 80,
   "metadata": {},
   "outputs": [],
   "source": [
    "from qermit import AnsatzCircuit, SymbolsDict\n",
    "from pytket.circuit import Circuit, Qubit\n",
    "\n",
    "circuit = Circuit(3,3).X(0).X(1).Rz(0.5, 2)\n",
    "\n",
    "# Define a deep circuit with Z expectation 1 for all qubits:\n",
    "circuit = Circuit(3)\n",
    "for i in range(10):\n",
    "    circuit.Rz(0.5, 0).Rz(0.5, 1).Rz(0.5, 2)\n",
    "    circuit.CX(0, 1).CX(1, 2).CX(2, 0)\n",
    "    circuit.Rz(0.5, 0).Rz(0.5, 1).Rz(0.5, 2)\n",
    "    circuit.CX(0, 1).CX(1, 2).CX(2, 0)\n",
    "    circuit.Rz(0.5, 0).Rz(0.5, 1).Rz(0.5, 2)\n",
    "    circuit.CX(0, 1).CX(1, 2).CX(2, 0)\n",
    "\n",
    "# circuit.measure_all()\n",
    "\n",
    "shots = 1000\n",
    "symbols = SymbolsDict()  # We don't have any symbols in this circuit\n",
    "\n",
    "ansatz_circuit = AnsatzCircuit(Circuit=circuit, Shots=shots, SymbolsDict=symbols)"
   ]
  },
  {
   "cell_type": "markdown",
   "metadata": {},
   "source": [
    "And next the observable we're interested in and the `ObservableTracker`:"
   ]
  },
  {
   "cell_type": "code",
   "execution_count": 81,
   "metadata": {},
   "outputs": [
    {
     "name": "stdout",
     "output_type": "stream",
     "text": [
      "{(Zq[0]): 1.00000000000000, (Zq[1]): 1.00000000000000, (Zq[2]): 1.00000000000000}\n"
     ]
    }
   ],
   "source": [
    "# Define the Pauli operator we're interested in:\n",
    "\n",
    "from pytket import Qubit\n",
    "from pytket.pauli import Pauli, QubitPauliString\n",
    "from pytket.utils import QubitPauliOperator\n",
    "\n",
    "strings = [QubitPauliString([Qubit(i)], [Pauli.Z]) for i in range(3)]\n",
    "operator = QubitPauliOperator({s: 1.0 for s in strings})\n",
    "\n",
    "print(operator)"
   ]
  },
  {
   "cell_type": "code",
   "execution_count": 82,
   "metadata": {},
   "outputs": [],
   "source": [
    "from qermit import ObservableTracker\n",
    "\n",
    "observable_tracker = ObservableTracker(operator)"
   ]
  },
  {
   "attachments": {},
   "cell_type": "markdown",
   "metadata": {},
   "source": [
    "Finally we give the `AnsatzCircuit` and the `ObservableTracker` to the experiment:"
   ]
  },
  {
   "cell_type": "code",
   "execution_count": 83,
   "metadata": {},
   "outputs": [
    {
     "name": "stdout",
     "output_type": "stream",
     "text": [
      "ObservableExperiment(AnsatzCircuit=AnsatzCircuit(Circuit=[Rz(0.5) q[0]; Rz(0.5) q[1]; Rz(0.5) q[2]; CX q[0], q[1]; CX q[1], q[2]; CX q[2], q[0]; Rz(0.5) q[1]; Rz(0.5) q[0]; Rz(0.5) q[2]; CX q[0], q[1]; CX q[1], q[2]; CX q[2], q[0]; Rz(0.5) q[1]; Rz(0.5) q[0]; Rz(0.5) q[2]; CX q[0], q[1]; CX q[1], q[2]; CX q[2], q[0]; Rz(0.5) q[1]; Rz(0.5) q[0]; Rz(0.5) q[2]; CX q[0], q[1]; CX q[1], q[2]; CX q[2], q[0]; Rz(0.5) q[1]; Rz(0.5) q[0]; Rz(0.5) q[2]; CX q[0], q[1]; CX q[1], q[2]; CX q[2], q[0]; Rz(0.5) q[1]; Rz(0.5) q[0]; Rz(0.5) q[2]; CX q[0], q[1]; CX q[1], q[2]; CX q[2], q[0]; Rz(0.5) q[1]; Rz(0.5) q[0]; Rz(0.5) q[2]; CX q[0], q[1]; CX q[1], q[2]; CX q[2], q[0]; Rz(0.5) q[1]; Rz(0.5) q[0]; Rz(0.5) q[2]; CX q[0], q[1]; CX q[1], q[2]; CX q[2], q[0]; Rz(0.5) q[1]; Rz(0.5) q[0]; Rz(0.5) q[2]; CX q[0], q[1]; CX q[1], q[2]; CX q[2], q[0]; Rz(0.5) q[1]; Rz(0.5) q[0]; Rz(0.5) q[2]; CX q[0], q[1]; CX q[1], q[2]; CX q[2], q[0]; Rz(0.5) q[1]; Rz(0.5) q[0]; Rz(0.5) q[2]; CX q[0], q[1]; CX q[1], q[2]; CX q[2], q[0]; Rz(0.5) q[1]; Rz(0.5) q[0]; Rz(0.5) q[2]; CX q[0], q[1]; CX q[1], q[2]; CX q[2], q[0]; Rz(0.5) q[1]; Rz(0.5) q[0]; Rz(0.5) q[2]; CX q[0], q[1]; CX q[1], q[2]; CX q[2], q[0]; Rz(0.5) q[1]; Rz(0.5) q[0]; Rz(0.5) q[2]; CX q[0], q[1]; CX q[1], q[2]; CX q[2], q[0]; Rz(0.5) q[1]; Rz(0.5) q[0]; Rz(0.5) q[2]; CX q[0], q[1]; CX q[1], q[2]; CX q[2], q[0]; Rz(0.5) q[1]; Rz(0.5) q[0]; Rz(0.5) q[2]; CX q[0], q[1]; CX q[1], q[2]; CX q[2], q[0]; Rz(0.5) q[1]; Rz(0.5) q[0]; Rz(0.5) q[2]; CX q[0], q[1]; CX q[1], q[2]; CX q[2], q[0]; Rz(0.5) q[1]; Rz(0.5) q[0]; Rz(0.5) q[2]; CX q[0], q[1]; CX q[1], q[2]; CX q[2], q[0]; Rz(0.5) q[1]; Rz(0.5) q[0]; Rz(0.5) q[2]; CX q[0], q[1]; CX q[1], q[2]; CX q[2], q[0]; Rz(0.5) q[1]; Rz(0.5) q[0]; Rz(0.5) q[2]; CX q[0], q[1]; CX q[1], q[2]; CX q[2], q[0]; Rz(0.5) q[1]; Rz(0.5) q[0]; Rz(0.5) q[2]; CX q[0], q[1]; CX q[1], q[2]; CX q[2], q[0]; Rz(0.5) q[1]; Rz(0.5) q[0]; Rz(0.5) q[2]; CX q[0], q[1]; CX q[1], q[2]; CX q[2], q[0]; Rz(0.5) q[1]; Rz(0.5) q[0]; Rz(0.5) q[2]; CX q[0], q[1]; CX q[1], q[2]; CX q[2], q[0]; Rz(0.5) q[1]; Rz(0.5) q[0]; Rz(0.5) q[2]; CX q[0], q[1]; CX q[1], q[2]; CX q[2], q[0]; Rz(0.5) q[1]; Rz(0.5) q[0]; Rz(0.5) q[2]; CX q[0], q[1]; CX q[1], q[2]; CX q[2], q[0]; Rz(0.5) q[1]; Rz(0.5) q[0]; Rz(0.5) q[2]; CX q[0], q[1]; CX q[1], q[2]; CX q[2], q[0]; Rz(0.5) q[1]; Rz(0.5) q[0]; Rz(0.5) q[2]; CX q[0], q[1]; CX q[1], q[2]; CX q[2], q[0]; Rz(0.5) q[1]; Rz(0.5) q[0]; Rz(0.5) q[2]; CX q[0], q[1]; CX q[1], q[2]; CX q[2], q[0]; Rz(0.5) q[1]; Rz(0.5) q[0]; Rz(0.5) q[2]; CX q[0], q[1]; CX q[1], q[2]; CX q[2], q[0]; Rz(0.5) q[1]; Rz(0.5) q[0]; Rz(0.5) q[2]; CX q[0], q[1]; CX q[1], q[2]; CX q[2], q[0]; ], Shots=1000, SymbolsDict=<SymbolsDict::0>), ObservableTracker=<ObservableTracker::0MeasurementCircuits>)\n"
     ]
    }
   ],
   "source": [
    "from qermit import ObservableExperiment\n",
    "\n",
    "observable_experiment = ObservableExperiment(AnsatzCircuit=ansatz_circuit, ObservableTracker=observable_tracker)\n",
    "print(observable_experiment)"
   ]
  },
  {
   "cell_type": "code",
   "execution_count": 84,
   "metadata": {},
   "outputs": [],
   "source": [
    "results = mitex.run([observable_experiment])"
   ]
  },
  {
   "cell_type": "code",
   "execution_count": 85,
   "metadata": {},
   "outputs": [
    {
     "data": {
      "text/plain": [
       "[{(Zq[0]): 0.964000000000000, (Zq[1]): 0.966000000000000, (Zq[2]): 0.970000000000000}]"
      ]
     },
     "execution_count": 85,
     "metadata": {},
     "output_type": "execute_result"
    }
   ],
   "source": [
    "results"
   ]
  }
 ],
 "metadata": {
  "kernelspec": {
   "display_name": "Python 3",
   "language": "python",
   "name": "python3"
  },
  "language_info": {
   "codemirror_mode": {
    "name": "ipython",
    "version": 3
   },
   "file_extension": ".py",
   "mimetype": "text/x-python",
   "name": "python",
   "nbconvert_exporter": "python",
   "pygments_lexer": "ipython3",
   "version": "3.9.17"
  },
  "orig_nbformat": 4
 },
 "nbformat": 4,
 "nbformat_minor": 2
}
