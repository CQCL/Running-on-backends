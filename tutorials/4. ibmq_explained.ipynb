{
 "cells": [
  {
   "attachments": {},
   "cell_type": "markdown",
   "metadata": {},
   "source": [
    "# IBMQ Explained"
   ]
  },
  {
   "attachments": {},
   "cell_type": "markdown",
   "metadata": {},
   "source": [
    "## Summary\n",
    "\n",
    "IBMQ is IBM's quantum computing cloud service. They have a shot based simulator and a number of real quantum devices. You can also do noisy simulation to approximate the behaviour on a real device.\n",
    "\n",
    "Most information can be found on the [IBMQ documentation](https://quantum-computing.ibm.com/docs/) and the [Qiskit documentation](https://qiskit.org/documentation/), as well as the [pytket-qiskit](https://cqcl.github.io/pytket-qiskit/api/index.html) documentation.\n",
    "\n",
    "**IMPORTANT** The QNLP team has (ATOW) a 10h rolling monthly allocation for usage of real devices. Going above this eats into other teams' quotas. Check with project leader before running anything on real quantum devices."
   ]
  },
  {
   "attachments": {},
   "cell_type": "markdown",
   "metadata": {},
   "source": [
    "### Technology\n",
    "IBM's devices use superconducting qubits. In general, these are noisier and require more shots than ion trap qubits. However, they are faster as they don't have all-to-all connectivity, so you typically don't need to wait as long for results.\n",
    "\n",
    "The devices support mid-circuit measurement and qubit reuse."
   ]
  },
  {
   "attachments": {},
   "cell_type": "markdown",
   "metadata": {},
   "source": [
    "### Simulators\n",
    "Aer is the name of IBM's main simulator for quantum circuits. In its most basic form, it runs a noise-free, shot-based simulation of the quantum circuit on your own computer. \n",
    "\n",
    "There are a number of further options you can take advantage of:\n",
    "- Different methods of simulation, e.g. `statevector_simulator` and `unitary_simulator`. \n",
    "- Passing noise models to mimic the behaviour of a real device. "
   ]
  },
  {
   "attachments": {},
   "cell_type": "markdown",
   "metadata": {},
   "source": [
    "### Real devices\n",
    "IBM has a number of real devices. Some (typically the latest) are only accessible with a premium account. You can see the full list of devices and their properties on the [resources page](https://quantum-computing.ibm.com/services/resources?tab=systems) from the IBMQ dashboard. \n",
    "This lets you see the number of qubits, whether you have access, and the status of the queue. \n",
    "You can find more details on specifics of the hardware, processor types and how cicuits are executed on the [systems overview page](https://quantum-computing.ibm.com/composer/docs/iqx/manage/systems/about-systems).\n",
    "Below is an example of the list of devices\n"
   ]
  },
  {
   "attachments": {},
   "cell_type": "markdown",
   "metadata": {},
   "source": [
    "![IBMQ systems](../imgs/ibmq_systems.png)\n",
    "*Example of the list of devices on the systems page*"
   ]
  },
  {
   "attachments": {},
   "cell_type": "markdown",
   "metadata": {},
   "source": [
    "### Getting started\n",
    "\n",
    "Some IBMQ devices and features are available with a free account. You can also request a premium account from Quantinuum -- this gives you access to more devices (typically the most recent ones) and to dedicated queue time. \n",
    "\n",
    "To get set up, the person to contact is (ATOW) Isobel Hooper. You will have a number of things which you will need:\n",
    "- Username/email address and password for IBMQ\n",
    "- API token -- this is available on the first screen when you log in to IBMQ\n",
    "- If you have a company account, you will get the names of the `hub`, `group` and `project` you are in. These are shown in `https://quantum-computing.ibm.com/account --> 'Instances'`. If you're not using a company account, the default values are `hub='ibm-q', group='open', project='main'`."
   ]
  },
  {
   "attachments": {},
   "cell_type": "markdown",
   "metadata": {},
   "source": [
    "<img src=\"../imgs/ibmq_api_token.png\"  width=48% height=48%> <img src=\"../imgs/ibmq_instances.png\"  width=48% height=48%> "
   ]
  },
  {
   "cell_type": "markdown",
   "metadata": {},
   "source": []
  }
 ],
 "metadata": {
  "language_info": {
   "name": "python"
  },
  "orig_nbformat": 4
 },
 "nbformat": 4,
 "nbformat_minor": 2
}
