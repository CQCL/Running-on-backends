{
 "cells": [
  {
   "attachments": {},
   "cell_type": "markdown",
   "metadata": {},
   "source": [
    "## How to execute quantum circuits on backends"
   ]
  },
  {
   "attachments": {},
   "cell_type": "markdown",
   "metadata": {},
   "source": [
    "The aim of this article and set of notebooks is to show how to run a quantum circuit on a real device or emulator. There are a number of possible paths, depending on:\n",
    "\n",
    "Circuit source:\n",
    "- Discopy/Lambeq\n",
    "- Pytket\n",
    "- Other e.g. torchquantum\n",
    "\n",
    "Middleman:\n",
    "- Pytket\n",
    "- Myqos\n",
    "\n",
    "Desired backend:\n",
    "- IBM\n",
    "- Honeywell/Quantinuum\n",
    "- Other\n",
    "\n",
    "Pro level:\n",
    "- Error Mitigation with Qermit\n",
    "\n",
    "\n",
    "Many of the packages mentioned here are in active development, so specifics will change. This article may be updated, but the intention is to give a fairly complete overview of the different ways you do can things. "
   ]
  },
  {
   "attachments": {},
   "cell_type": "markdown",
   "metadata": {},
   "source": [
    "![workflow](../imgs/workflow.png)"
   ]
  },
  {
   "attachments": {},
   "cell_type": "markdown",
   "metadata": {},
   "source": [
    "### Circuit source\n",
    "Where have you built your circuit? This determines how you can run it. Very briefly:\n",
    "- Discopy can calculate probabilities directly using `.eval()` directly on the circuit. You can pass different backends to `.eval()` to run on real devices (which routes via tket).\n",
    "- You can construct circuits directly in pytket\n",
    "- You might have made a circuit in another library, e.g. qiskit, torchquantum, etc. Some of these libraries have built-in ways to run on real devices, but here we're concentrating on running with tket. Pytket has conversion functions for some of these libraries, but not for others.\n",
    "\n",
    "Where you've built the circuit is probably outside of your control by this point, but knowing how easy it is to run on a real device afterwards can be a factor if that's a priority. E.g. torchquantum has (ATOW) no package for converting to pytket."
   ]
  },
  {
   "attachments": {},
   "cell_type": "markdown",
   "metadata": {},
   "source": [
    "### Middleman\n",
    "This is the interface you use to run the circuit.\n",
    "- Pytket is the basic way to run a circuit on various backends manually. Circuits and results are not saved automatically -- you need to take care of this yourself.\n",
    "- Myqos is a sort of 'operating system' which allows you to manage experiments. Youu can interface with devices and keep track of circuits and results, and it lets you retrieve them later. Still in alpha form and under heavy development, so features are being changed and added regularly, and bugs are not uncommon."
   ]
  },
  {
   "attachments": {},
   "cell_type": "markdown",
   "metadata": {},
   "source": [
    "### Target\n",
    "What do you want to run the circuit on? There are three main possibilities here.\n",
    "- Perfect simulation, such as discopy's `.eval()`, IBM Aer's statevector simulator and TorchQuantum (not covered). This does the exact linear algebra performed by the circuit. \n",
    "- Emulator/simulators, such as IBM's Aer in its basic form (with/without noise models) and Quantinuum's emulators. These are shot-based simulators which mimic (more or less precisely, depending on your choices) the behaviour of a real device. These are generally more readily available (shorter queueing times) than real devices.\n",
    "- Actual quantum devices: a number are available but IBM's quantum devices and Quantinuum's devices are the ones used the most here. This is typically only done at the end of a project -- it's expensive and you may need to queue for a long time as a lot of people want access!"
   ]
  }
 ],
 "metadata": {
  "language_info": {
   "name": "python"
  },
  "orig_nbformat": 4
 },
 "nbformat": 4,
 "nbformat_minor": 2
}
